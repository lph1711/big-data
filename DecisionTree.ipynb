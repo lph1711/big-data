{
  "cells": [
    {
      "cell_type": "markdown",
      "id": "34b80c54-076b-4f7d-91ff-49799fc361b2",
      "metadata": {
        "pycharm": {
          "name": "#%% md\n"
        },
        "id": "34b80c54-076b-4f7d-91ff-49799fc361b2"
      },
      "source": [
        "# Decision Tree"
      ]
    },
    {
      "cell_type": "code",
      "execution_count": 18,
      "id": "2ff4df4a-bddc-44f2-adbd-e6e5c7e713d6",
      "metadata": {
        "pycharm": {
          "name": "#%%\n"
        },
        "colab": {
          "base_uri": "https://localhost:8080/"
        },
        "id": "2ff4df4a-bddc-44f2-adbd-e6e5c7e713d6",
        "outputId": "c2736bb5-e9c5-4511-9c8f-8b79b07e63f8"
      },
      "outputs": [
        {
          "output_type": "stream",
          "name": "stdout",
          "text": [
            "Looking in indexes: https://pypi.org/simple, https://us-python.pkg.dev/colab-wheels/public/simple/\n",
            "Requirement already satisfied: pyspark in /usr/local/lib/python3.7/dist-packages (3.3.0)\n",
            "Requirement already satisfied: py4j==0.10.9.5 in /usr/local/lib/python3.7/dist-packages (from pyspark) (0.10.9.5)\n"
          ]
        }
      ],
      "source": [
        "!pip install pyspark"
      ]
    },
    {
      "cell_type": "code",
      "execution_count": 19,
      "id": "10322043-b3f3-4594-9433-361ec643bc38",
      "metadata": {
        "pycharm": {
          "name": "#%%\n"
        },
        "id": "10322043-b3f3-4594-9433-361ec643bc38"
      },
      "outputs": [],
      "source": [
        "from pyspark.sql import SparkSession\n",
        "from pyspark.sql.types import *\n",
        "import pandas as pd\n",
        "from IPython.display import display"
      ]
    },
    {
      "cell_type": "code",
      "execution_count": 20,
      "id": "8e2d9178-4fb1-47b1-ae68-edba4b3d8900",
      "metadata": {
        "pycharm": {
          "name": "#%%\n"
        },
        "id": "8e2d9178-4fb1-47b1-ae68-edba4b3d8900"
      },
      "outputs": [],
      "source": [
        "spark_application_name = \"Spark_Application_Name\""
      ]
    },
    {
      "cell_type": "code",
      "execution_count": 21,
      "id": "b926ed50-ec7c-44f6-94c3-89d46b183f1a",
      "metadata": {
        "pycharm": {
          "name": "#%%\n"
        },
        "id": "b926ed50-ec7c-44f6-94c3-89d46b183f1a"
      },
      "outputs": [],
      "source": [
        "spark = (SparkSession.builder.appName(spark_application_name).getOrCreate())"
      ]
    },
    {
      "cell_type": "code",
      "execution_count": 22,
      "id": "d305b88e-bada-4cb0-8910-5ac7b128d2ef",
      "metadata": {
        "pycharm": {
          "name": "#%%\n"
        },
        "id": "d305b88e-bada-4cb0-8910-5ac7b128d2ef"
      },
      "outputs": [],
      "source": [
        "from pyspark.sql.functions import percent_rank\n",
        "from pyspark.sql import Window\n",
        "\n",
        "filePath = \"stocks-final.parquet\"\n",
        "stocksDF = spark.read.parquet(filePath)\n",
        "\n",
        "stocksDF = stocksDF.withColumn(\"rank\", percent_rank().over(Window.partitionBy().orderBy(\"Date\")))\n",
        "trainDF = stocksDF.where(\"rank <= .8\").drop(\"rank\")\n",
        "testDF = stocksDF.where(\"rank > .8\").drop(\"rank\")"
      ]
    },
    {
      "cell_type": "markdown",
      "id": "35893715-a4fa-465d-859e-855ee99fb8de",
      "metadata": {
        "pycharm": {
          "name": "#%% md\n"
        },
        "id": "35893715-a4fa-465d-859e-855ee99fb8de"
      },
      "source": [
        "## String Indexer"
      ]
    },
    {
      "cell_type": "code",
      "execution_count": 23,
      "id": "7990386e-9476-4a1d-83d1-37622383d061",
      "metadata": {
        "pycharm": {
          "name": "#%%\n"
        },
        "id": "7990386e-9476-4a1d-83d1-37622383d061"
      },
      "outputs": [],
      "source": [
        "# Didn't do StrinIndexer because there is no need for it since only 1 df is read so there's only 1 categorica1 column (company_name)"
      ]
    },
    {
      "cell_type": "markdown",
      "id": "df9b809d-5816-478d-871c-165e933a7cb4",
      "metadata": {
        "pycharm": {
          "name": "#%% md\n"
        },
        "id": "df9b809d-5816-478d-871c-165e933a7cb4"
      },
      "source": [
        "## VectorAssembler"
      ]
    },
    {
      "cell_type": "code",
      "execution_count": 24,
      "id": "1204d9fa-5bf0-43d8-8a95-1722d838f8d5",
      "metadata": {
        "pycharm": {
          "name": "#%%\n"
        },
        "id": "1204d9fa-5bf0-43d8-8a95-1722d838f8d5"
      },
      "outputs": [],
      "source": [
        "from pyspark.ml.feature import VectorAssembler\n",
        "\n",
        "numericCols = []\n",
        "for (field, dataType) in trainDF.dtypes:\n",
        "    if (dataType == \"double\") & (field != \"Next\"):\n",
        "        numericCols.append(field)\n",
        "\n",
        "vecAssembler = VectorAssembler(inputCols=numericCols, outputCol=\"features\")"
      ]
    },
    {
      "cell_type": "markdown",
      "id": "9a57d9d4-686a-49c2-992a-5bde3747e543",
      "metadata": {
        "pycharm": {
          "name": "#%% md\n"
        },
        "id": "9a57d9d4-686a-49c2-992a-5bde3747e543"
      },
      "source": [
        "## Decision Tree"
      ]
    },
    {
      "cell_type": "code",
      "execution_count": 25,
      "id": "b0c438a8-9c75-4bbf-8e02-2f96d83f0d5e",
      "metadata": {
        "pycharm": {
          "name": "#%%\n"
        },
        "id": "b0c438a8-9c75-4bbf-8e02-2f96d83f0d5e"
      },
      "outputs": [],
      "source": [
        "from pyspark.ml.regression import DecisionTreeRegressor\n",
        "\n",
        "decisionTree = DecisionTreeRegressor(labelCol=\"Next\")"
      ]
    },
    {
      "cell_type": "code",
      "execution_count": 26,
      "id": "c91e905f-e85f-46fa-99dc-39b711a79001",
      "metadata": {
        "pycharm": {
          "name": "#%%\n"
        },
        "id": "c91e905f-e85f-46fa-99dc-39b711a79001"
      },
      "outputs": [],
      "source": [
        "from pyspark.ml import Pipeline\n",
        "\n",
        "# Combine stages into pipeline\n",
        "stages = [vecAssembler, decisionTree]\n",
        "pipeline = Pipeline(stages=stages)\n",
        "\n",
        "pipelineModel = pipeline.fit(trainDF)"
      ]
    },
    {
      "cell_type": "code",
      "execution_count": 27,
      "id": "78db9e81-32f9-4323-bed8-ab6c49382588",
      "metadata": {
        "pycharm": {
          "name": "#%%\n"
        },
        "id": "78db9e81-32f9-4323-bed8-ab6c49382588"
      },
      "outputs": [],
      "source": [
        "# MaxBins\n",
        "# Did not set Maxbins because we only have 1 categorical feature in our df (Date) and Max Bins\n",
        "# has to be at least be the equal to the number of categorical features, and its default is already\n",
        "# at 32."
      ]
    },
    {
      "cell_type": "markdown",
      "id": "435da1af-1943-4ebc-96c3-64efc3848c99",
      "metadata": {
        "pycharm": {
          "name": "#%% md\n"
        },
        "id": "435da1af-1943-4ebc-96c3-64efc3848c99"
      },
      "source": [
        "## Pipeline"
      ]
    },
    {
      "cell_type": "code",
      "execution_count": 28,
      "id": "b6fe9f0b-a55b-43e0-aea7-0ef958e92e11",
      "metadata": {
        "pycharm": {
          "name": "#%%\n"
        },
        "id": "b6fe9f0b-a55b-43e0-aea7-0ef958e92e11"
      },
      "outputs": [],
      "source": [
        "pipelineModel = pipeline.fit(trainDF)"
      ]
    },
    {
      "cell_type": "markdown",
      "id": "83b37efc-f6e2-4818-ae61-7badcfc8c92a",
      "metadata": {
        "pycharm": {
          "name": "#%% md\n"
        },
        "id": "83b37efc-f6e2-4818-ae61-7badcfc8c92a"
      },
      "source": [
        "## Visualize the Decision Tree"
      ]
    },
    {
      "cell_type": "code",
      "execution_count": 29,
      "id": "b15d8314-9841-4269-8a17-8bfdc0dfdb87",
      "metadata": {
        "pycharm": {
          "name": "#%%\n"
        },
        "colab": {
          "base_uri": "https://localhost:8080/"
        },
        "id": "b15d8314-9841-4269-8a17-8bfdc0dfdb87",
        "outputId": "82802daa-c4e6-43d3-9a09-f08df92a9b0b"
      },
      "outputs": [
        {
          "output_type": "stream",
          "name": "stdout",
          "text": [
            "DecisionTreeRegressionModel: uid=DecisionTreeRegressor_f00db7cbd26e, depth=5, numNodes=61, numFeatures=5\n",
            "  If (feature 3 <= 1080.9400024414062)\n",
            "   If (feature 3 <= 958.4499816894531)\n",
            "    If (feature 1 <= 845.6400146484375)\n",
            "     If (feature 3 <= 818.2799987792969)\n",
            "      If (feature 0 <= 821.2944946289062)\n",
            "       Predict: 807.487132196841\n",
            "      Else (feature 0 > 821.2944946289062)\n",
            "       Predict: 821.7799987792969\n",
            "     Else (feature 3 > 818.2799987792969)\n",
            "      If (feature 3 <= 830.5450134277344)\n",
            "       Predict: 829.1996663411459\n",
            "      Else (feature 3 > 830.5450134277344)\n",
            "       Predict: 841.1006005859375\n",
            "    Else (feature 1 > 845.6400146484375)\n",
            "     If (feature 3 <= 920.6299743652344)\n",
            "      If (feature 0 <= 852.125)\n",
            "       Predict: 853.4000244140625\n",
            "      Else (feature 0 > 852.125)\n",
            "       Predict: 912.344248453776\n",
            "     Else (feature 3 > 920.6299743652344)\n",
            "      If (feature 3 <= 941.010009765625)\n",
            "       Predict: 934.9957138372928\n",
            "      Else (feature 3 > 941.010009765625)\n",
            "       Predict: 956.027158203125\n",
            "   Else (feature 3 > 958.4499816894531)\n",
            "    If (feature 0 <= 1028.60400390625)\n",
            "     If (feature 0 <= 987.9249877929688)\n",
            "      If (feature 2 <= 957.4250183105469)\n",
            "       Predict: 970.6749877929688\n",
            "      Else (feature 2 > 957.4250183105469)\n",
            "       Predict: 983.9941711425781\n",
            "     Else (feature 0 > 987.9249877929688)\n",
            "      If (feature 3 <= 1016.5850219726562)\n",
            "       Predict: 1004.761463838465\n",
            "      Else (feature 3 > 1016.5850219726562)\n",
            "       Predict: 1029.771255493164\n",
            "    Else (feature 0 > 1028.60400390625)\n",
            "     If (feature 3 <= 1048.1749877929688)\n",
            "      If (feature 3 <= 1037.1950073242188)\n",
            "       Predict: 1040.7767134685905\n",
            "      Else (feature 3 > 1037.1950073242188)\n",
            "       Predict: 1056.831357421875\n",
            "     Else (feature 3 > 1048.1749877929688)\n",
            "      If (feature 3 <= 1061.6950073242188)\n",
            "       Predict: 1068.43775390625\n",
            "      Else (feature 3 > 1061.6950073242188)\n",
            "       Predict: 1082.3179209183672\n",
            "  Else (feature 3 > 1080.9400024414062)\n",
            "   If (feature 3 <= 1290.6849975585938)\n",
            "    If (feature 3 <= 1174.4049682617188)\n",
            "     If (feature 1 <= 1116.6625366210938)\n",
            "      If (feature 3 <= 1103.8349609375)\n",
            "       Predict: 1104.1226931202168\n",
            "      Else (feature 3 > 1103.8349609375)\n",
            "       Predict: 1126.233963946907\n",
            "     Else (feature 1 > 1116.6625366210938)\n",
            "      If (feature 0 <= 1163.3934936523438)\n",
            "       Predict: 1152.01666015625\n",
            "      Else (feature 0 > 1163.3934936523438)\n",
            "       Predict: 1174.9177495216836\n",
            "    Else (feature 3 > 1174.4049682617188)\n",
            "     If (feature 3 <= 1209.0050048828125)\n",
            "      If (feature 3 <= 1199.47998046875)\n",
            "       Predict: 1196.226694535236\n",
            "      Else (feature 3 > 1199.47998046875)\n",
            "       Predict: 1214.350478515625\n",
            "     Else (feature 3 > 1209.0050048828125)\n",
            "      If (feature 1 <= 1235.8650512695312)\n",
            "       Predict: 1237.4631596779336\n",
            "      Else (feature 1 > 1235.8650512695312)\n",
            "       Predict: 1266.067041015625\n",
            "   Else (feature 3 > 1290.6849975585938)\n",
            "    If (feature 0 <= 1441.5975341796875)\n",
            "     If (feature 1 <= 1335.030029296875)\n",
            "      If (feature 1 <= 1277.677490234375)\n",
            "       Predict: 1298.9300537109375\n",
            "      Else (feature 1 > 1277.677490234375)\n",
            "       Predict: 1322.2032114664714\n",
            "     Else (feature 1 > 1335.030029296875)\n",
            "      If (feature 3 <= 1436.7149658203125)\n",
            "       Predict: 1379.6908624822443\n",
            "      Else (feature 3 > 1436.7149658203125)\n",
            "       Predict: 1446.89501953125\n",
            "    Else (feature 0 > 1441.5975341796875)\n",
            "     If (feature 3 <= 1436.7149658203125)\n",
            "      Predict: 1465.697509765625\n",
            "     Else (feature 3 > 1436.7149658203125)\n",
            "      If (feature 1 <= 1427.3350219726562)\n",
            "       Predict: 1463.8399658203125\n",
            "      Else (feature 1 > 1427.3350219726562)\n",
            "       Predict: 1494.8149968927557\n",
            "\n"
          ]
        }
      ],
      "source": [
        "dtModel = pipelineModel.stages[-1]\n",
        "print(dtModel.toDebugString)"
      ]
    },
    {
      "cell_type": "markdown",
      "id": "539c6fdd-5bc2-47bb-b237-bf2a437b4942",
      "metadata": {
        "pycharm": {
          "name": "#%% md\n"
        },
        "id": "539c6fdd-5bc2-47bb-b237-bf2a437b4942"
      },
      "source": [
        "## Feature Importance"
      ]
    },
    {
      "cell_type": "code",
      "execution_count": 30,
      "id": "9a877708-f07e-43e6-9dda-9fa79e8624ad",
      "metadata": {
        "pycharm": {
          "name": "#%%\n"
        },
        "colab": {
          "base_uri": "https://localhost:8080/"
        },
        "id": "9a877708-f07e-43e6-9dda-9fa79e8624ad",
        "outputId": "ba42e116-8b29-4c53-ef95-2427cc64a330"
      },
      "outputs": [
        {
          "output_type": "execute_result",
          "data": {
            "text/plain": [
              "SparseVector(5, {0: 0.0265, 1: 0.0354, 2: 0.0, 3: 0.9381})"
            ]
          },
          "metadata": {},
          "execution_count": 30
        }
      ],
      "source": [
        "decisionTreeModel = pipelineModel.stages[-1]\n",
        "decisionTreeModel.featureImportances"
      ]
    },
    {
      "cell_type": "markdown",
      "id": "e9d04eb7-6d57-4862-b1c3-dd6a103b373b",
      "metadata": {
        "pycharm": {
          "name": "#%% md\n"
        },
        "id": "e9d04eb7-6d57-4862-b1c3-dd6a103b373b"
      },
      "source": [
        "## Interpreting Feature Importance"
      ]
    },
    {
      "cell_type": "code",
      "execution_count": 31,
      "id": "e917b259-def6-4aae-b87c-972c0f24751c",
      "metadata": {
        "pycharm": {
          "name": "#%%\n"
        },
        "colab": {
          "base_uri": "https://localhost:8080/",
          "height": 206
        },
        "id": "e917b259-def6-4aae-b87c-972c0f24751c",
        "outputId": "6624e5a3-c0e2-4890-d22c-937755a03c1b"
      },
      "outputs": [
        {
          "output_type": "execute_result",
          "data": {
            "text/plain": [
              "    feature  importance\n",
              "3     Close    0.938105\n",
              "1       Low    0.035369\n",
              "0      High    0.026484\n",
              "2      Open    0.000042\n",
              "4  AdjClose    0.000000"
            ],
            "text/html": [
              "\n",
              "  <div id=\"df-3f1b67f0-d5bf-4cb8-b1ba-028650f12386\">\n",
              "    <div class=\"colab-df-container\">\n",
              "      <div>\n",
              "<style scoped>\n",
              "    .dataframe tbody tr th:only-of-type {\n",
              "        vertical-align: middle;\n",
              "    }\n",
              "\n",
              "    .dataframe tbody tr th {\n",
              "        vertical-align: top;\n",
              "    }\n",
              "\n",
              "    .dataframe thead th {\n",
              "        text-align: right;\n",
              "    }\n",
              "</style>\n",
              "<table border=\"1\" class=\"dataframe\">\n",
              "  <thead>\n",
              "    <tr style=\"text-align: right;\">\n",
              "      <th></th>\n",
              "      <th>feature</th>\n",
              "      <th>importance</th>\n",
              "    </tr>\n",
              "  </thead>\n",
              "  <tbody>\n",
              "    <tr>\n",
              "      <th>3</th>\n",
              "      <td>Close</td>\n",
              "      <td>0.938105</td>\n",
              "    </tr>\n",
              "    <tr>\n",
              "      <th>1</th>\n",
              "      <td>Low</td>\n",
              "      <td>0.035369</td>\n",
              "    </tr>\n",
              "    <tr>\n",
              "      <th>0</th>\n",
              "      <td>High</td>\n",
              "      <td>0.026484</td>\n",
              "    </tr>\n",
              "    <tr>\n",
              "      <th>2</th>\n",
              "      <td>Open</td>\n",
              "      <td>0.000042</td>\n",
              "    </tr>\n",
              "    <tr>\n",
              "      <th>4</th>\n",
              "      <td>AdjClose</td>\n",
              "      <td>0.000000</td>\n",
              "    </tr>\n",
              "  </tbody>\n",
              "</table>\n",
              "</div>\n",
              "      <button class=\"colab-df-convert\" onclick=\"convertToInteractive('df-3f1b67f0-d5bf-4cb8-b1ba-028650f12386')\"\n",
              "              title=\"Convert this dataframe to an interactive table.\"\n",
              "              style=\"display:none;\">\n",
              "        \n",
              "  <svg xmlns=\"http://www.w3.org/2000/svg\" height=\"24px\"viewBox=\"0 0 24 24\"\n",
              "       width=\"24px\">\n",
              "    <path d=\"M0 0h24v24H0V0z\" fill=\"none\"/>\n",
              "    <path d=\"M18.56 5.44l.94 2.06.94-2.06 2.06-.94-2.06-.94-.94-2.06-.94 2.06-2.06.94zm-11 1L8.5 8.5l.94-2.06 2.06-.94-2.06-.94L8.5 2.5l-.94 2.06-2.06.94zm10 10l.94 2.06.94-2.06 2.06-.94-2.06-.94-.94-2.06-.94 2.06-2.06.94z\"/><path d=\"M17.41 7.96l-1.37-1.37c-.4-.4-.92-.59-1.43-.59-.52 0-1.04.2-1.43.59L10.3 9.45l-7.72 7.72c-.78.78-.78 2.05 0 2.83L4 21.41c.39.39.9.59 1.41.59.51 0 1.02-.2 1.41-.59l7.78-7.78 2.81-2.81c.8-.78.8-2.07 0-2.86zM5.41 20L4 18.59l7.72-7.72 1.47 1.35L5.41 20z\"/>\n",
              "  </svg>\n",
              "      </button>\n",
              "      \n",
              "  <style>\n",
              "    .colab-df-container {\n",
              "      display:flex;\n",
              "      flex-wrap:wrap;\n",
              "      gap: 12px;\n",
              "    }\n",
              "\n",
              "    .colab-df-convert {\n",
              "      background-color: #E8F0FE;\n",
              "      border: none;\n",
              "      border-radius: 50%;\n",
              "      cursor: pointer;\n",
              "      display: none;\n",
              "      fill: #1967D2;\n",
              "      height: 32px;\n",
              "      padding: 0 0 0 0;\n",
              "      width: 32px;\n",
              "    }\n",
              "\n",
              "    .colab-df-convert:hover {\n",
              "      background-color: #E2EBFA;\n",
              "      box-shadow: 0px 1px 2px rgba(60, 64, 67, 0.3), 0px 1px 3px 1px rgba(60, 64, 67, 0.15);\n",
              "      fill: #174EA6;\n",
              "    }\n",
              "\n",
              "    [theme=dark] .colab-df-convert {\n",
              "      background-color: #3B4455;\n",
              "      fill: #D2E3FC;\n",
              "    }\n",
              "\n",
              "    [theme=dark] .colab-df-convert:hover {\n",
              "      background-color: #434B5C;\n",
              "      box-shadow: 0px 1px 3px 1px rgba(0, 0, 0, 0.15);\n",
              "      filter: drop-shadow(0px 1px 2px rgba(0, 0, 0, 0.3));\n",
              "      fill: #FFFFFF;\n",
              "    }\n",
              "  </style>\n",
              "\n",
              "      <script>\n",
              "        const buttonEl =\n",
              "          document.querySelector('#df-3f1b67f0-d5bf-4cb8-b1ba-028650f12386 button.colab-df-convert');\n",
              "        buttonEl.style.display =\n",
              "          google.colab.kernel.accessAllowed ? 'block' : 'none';\n",
              "\n",
              "        async function convertToInteractive(key) {\n",
              "          const element = document.querySelector('#df-3f1b67f0-d5bf-4cb8-b1ba-028650f12386');\n",
              "          const dataTable =\n",
              "            await google.colab.kernel.invokeFunction('convertToInteractive',\n",
              "                                                     [key], {});\n",
              "          if (!dataTable) return;\n",
              "\n",
              "          const docLinkHtml = 'Like what you see? Visit the ' +\n",
              "            '<a target=\"_blank\" href=https://colab.research.google.com/notebooks/data_table.ipynb>data table notebook</a>'\n",
              "            + ' to learn more about interactive tables.';\n",
              "          element.innerHTML = '';\n",
              "          dataTable['output_type'] = 'display_data';\n",
              "          await google.colab.output.renderOutput(dataTable, element);\n",
              "          const docLink = document.createElement('div');\n",
              "          docLink.innerHTML = docLinkHtml;\n",
              "          element.appendChild(docLink);\n",
              "        }\n",
              "      </script>\n",
              "    </div>\n",
              "  </div>\n",
              "  "
            ]
          },
          "metadata": {},
          "execution_count": 31
        }
      ],
      "source": [
        "import pandas as pd\n",
        "dtModel = pipelineModel.stages[-1]\n",
        "featureImp = pd.DataFrame(\n",
        "  list(zip(vecAssembler.getInputCols(), decisionTreeModel.featureImportances)),\n",
        "  columns=[\"feature\", \"importance\"])\n",
        "featureImp.sort_values(by=\"importance\", ascending=False)"
      ]
    },
    {
      "cell_type": "markdown",
      "id": "fca682ef-12f2-4cba-8474-e1dcbec06646",
      "metadata": {
        "pycharm": {
          "name": "#%% md\n"
        },
        "id": "fca682ef-12f2-4cba-8474-e1dcbec06646"
      },
      "source": [
        "## Apply model to test set"
      ]
    },
    {
      "cell_type": "code",
      "execution_count": 32,
      "id": "74931cba-6322-4c5d-84a8-d3295a129f32",
      "metadata": {
        "pycharm": {
          "name": "#%%\n"
        },
        "colab": {
          "base_uri": "https://localhost:8080/"
        },
        "id": "74931cba-6322-4c5d-84a8-d3295a129f32",
        "outputId": "e28af5f4-f728-452b-c1a9-68b030114a8c"
      },
      "outputs": [
        {
          "output_type": "stream",
          "name": "stdout",
          "text": [
            "+--------------------+------------------+------------------+\n",
            "|            features|              Next|        prediction|\n",
            "+--------------------+------------------+------------------+\n",
            "|[1436.96997070312...|1438.1400146484375|1379.6908624822443|\n",
            "|[1438.14001464843...| 1415.699951171875|1379.6908624822443|\n",
            "|[1415.69995117187...|1371.7039794921875|1379.6908624822443|\n",
            "|[1371.70397949218...|1341.1400146484375|1322.2032114664714|\n",
            "|[1341.14001464843...|1390.8699951171875|1298.9300537109375|\n",
            "|[1390.86999511718...|1410.1500244140625|1322.2032114664714|\n",
            "|[1410.15002441406...|1388.0899658203125|1322.2032114664714|\n",
            "|[1388.08996582031...|1358.9100341796875|1379.6908624822443|\n",
            "|[1358.91003417968...| 1306.219970703125|1322.2032114664714|\n",
            "|[1306.21997070312...| 1254.760009765625|1298.9300537109375|\n",
            "|[1254.76000976562...|1281.1500244140625|1237.4631596779336|\n",
            "|[1281.15002441406...|   1260.9599609375|1237.4631596779336|\n",
            "|[1260.9599609375,...|1193.8699951171875|1237.4631596779336|\n",
            "|[1193.86999511718...| 1219.760009765625| 1126.233963946907|\n",
            "|[1219.76000976562...|1152.2669677734375|1237.4631596779336|\n",
            "|[1152.26696777343...|1130.8599853515625|1104.1226931202168|\n",
            "|[1130.85998535156...|            1106.5| 1126.233963946907|\n",
            "|[1106.5,1037.2800...| 1157.969970703125|1104.1226931202168|\n",
            "|[1157.96997070312...| 1143.989990234375| 1126.233963946907|\n",
            "|[1143.98999023437...|1071.3199462890625|1082.3179209183672|\n",
            "+--------------------+------------------+------------------+\n",
            "only showing top 20 rows\n",
            "\n"
          ]
        }
      ],
      "source": [
        "predictionDF = pipelineModel.transform(testDF)\n",
        "\n",
        "predictionDF.select(\"features\", \"Next\", \"prediction\").show()"
      ]
    },
    {
      "cell_type": "code",
      "execution_count": 33,
      "id": "6f2323b0-400a-43a7-a8c5-49180540e54a",
      "metadata": {
        "pycharm": {
          "name": "#%%\n"
        },
        "colab": {
          "base_uri": "https://localhost:8080/"
        },
        "id": "6f2323b0-400a-43a7-a8c5-49180540e54a",
        "outputId": "e99907e0-4259-4fe7-890d-d96bff69613f"
      },
      "outputs": [
        {
          "output_type": "stream",
          "name": "stdout",
          "text": [
            "RMSE is 112.42707182860805\n",
            "R2 is 0.5727359194946977\n"
          ]
        }
      ],
      "source": [
        "from pyspark.ml.evaluation import RegressionEvaluator\n",
        "\n",
        "regEvaluator = RegressionEvaluator(predictionCol=\"prediction\",\n",
        "                                          labelCol=\"Next\", \n",
        "                                          metricName=\"rmse\")\n",
        "\n",
        "rmse = regEvaluator.evaluate(predictionDF)\n",
        "r2 = regEvaluator.setMetricName(\"r2\").evaluate(predictionDF)\n",
        "print(f\"RMSE is {rmse}\")\n",
        "print(f\"R2 is {r2}\")"
      ]
    }
  ],
  "metadata": {
    "kernelspec": {
      "display_name": "Python 3 (ipykernel)",
      "language": "python",
      "name": "python3"
    },
    "language_info": {
      "codemirror_mode": {
        "name": "ipython",
        "version": 3
      },
      "file_extension": ".py",
      "mimetype": "text/x-python",
      "name": "python",
      "nbconvert_exporter": "python",
      "pygments_lexer": "ipython3",
      "version": "3.10.4"
    },
    "colab": {
      "name": "5DecisionTree.ipynb",
      "provenance": []
    }
  },
  "nbformat": 4,
  "nbformat_minor": 5
}