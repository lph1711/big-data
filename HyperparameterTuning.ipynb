{
  "cells": [
    {
      "cell_type": "code",
      "execution_count": 16,
      "id": "214522c3-a8bd-459f-9d11-4b32eebaa83e",
      "metadata": {
        "pycharm": {
          "name": "#%%\n"
        },
        "colab": {
          "base_uri": "https://localhost:8080/"
        },
        "id": "214522c3-a8bd-459f-9d11-4b32eebaa83e",
        "outputId": "fe131fe4-dd9f-44e4-9e4e-d36f73e103e7"
      },
      "outputs": [
        {
          "output_type": "stream",
          "name": "stdout",
          "text": [
            "Looking in indexes: https://pypi.org/simple, https://us-python.pkg.dev/colab-wheels/public/simple/\n",
            "Requirement already satisfied: pyspark in /usr/local/lib/python3.7/dist-packages (3.3.0)\n",
            "Requirement already satisfied: py4j==0.10.9.5 in /usr/local/lib/python3.7/dist-packages (from pyspark) (0.10.9.5)\n"
          ]
        }
      ],
      "source": [
        "!pip install pyspark"
      ]
    },
    {
      "cell_type": "code",
      "execution_count": 17,
      "id": "1e8230a4-9a92-41dd-b300-a865085effa7",
      "metadata": {
        "pycharm": {
          "name": "#%%\n"
        },
        "id": "1e8230a4-9a92-41dd-b300-a865085effa7"
      },
      "outputs": [],
      "source": [
        "from pyspark.sql import SparkSession"
      ]
    },
    {
      "cell_type": "code",
      "execution_count": 18,
      "id": "63ea21f0-66a0-4213-b44e-2cf1041dff18",
      "metadata": {
        "pycharm": {
          "name": "#%%\n"
        },
        "id": "63ea21f0-66a0-4213-b44e-2cf1041dff18"
      },
      "outputs": [],
      "source": [
        "spark_application_name = \"Spark_Application_Name\""
      ]
    },
    {
      "cell_type": "code",
      "execution_count": 19,
      "id": "267a5bda-8b11-44d9-97b9-878ab55bc4b9",
      "metadata": {
        "tags": [],
        "pycharm": {
          "name": "#%%\n"
        },
        "id": "267a5bda-8b11-44d9-97b9-878ab55bc4b9"
      },
      "outputs": [],
      "source": [
        "spark = (SparkSession.builder.appName(spark_application_name).getOrCreate())"
      ]
    },
    {
      "cell_type": "code",
      "execution_count": 20,
      "id": "8be55407-8ae5-47a9-b3c3-1844db3fb0b3",
      "metadata": {
        "pycharm": {
          "name": "#%%\n"
        },
        "id": "8be55407-8ae5-47a9-b3c3-1844db3fb0b3"
      },
      "outputs": [],
      "source": [
        "from pyspark.sql.functions import percent_rank\n",
        "from pyspark.sql import Window\n",
        "\n",
        "filePath = \"stocks-final.parquet\"\n",
        "stocksDF = spark.read.parquet(filePath)\n",
        "\n",
        "stocksDF = stocksDF.withColumn(\"rank\", percent_rank().over(Window.partitionBy().orderBy(\"Date\")))#.drop(\"company_name\")\n",
        "trainDF = stocksDF.where(\"rank <= .8\").drop(\"rank\")\n",
        "testDF = stocksDF.where(\"rank > .8\").drop(\"rank\")"
      ]
    },
    {
      "cell_type": "markdown",
      "id": "3591b7b6-5e3e-4809-abc2-31b8cc2940ed",
      "metadata": {
        "pycharm": {
          "name": "#%% md\n"
        },
        "id": "3591b7b6-5e3e-4809-abc2-31b8cc2940ed"
      },
      "source": [
        "## Vector Assembler"
      ]
    },
    {
      "cell_type": "code",
      "execution_count": 21,
      "id": "603c8e64-3cf0-43d0-8f0b-d18ce41260d3",
      "metadata": {
        "pycharm": {
          "name": "#%%\n"
        },
        "id": "603c8e64-3cf0-43d0-8f0b-d18ce41260d3"
      },
      "outputs": [],
      "source": [
        "from pyspark.ml.feature import VectorAssembler\n",
        "\n",
        "numericCols = []\n",
        "for (field, dataType) in trainDF.dtypes:\n",
        "    if (dataType == \"double\") & (field != \"Next\"):\n",
        "        numericCols.append(field)\n",
        "\n",
        "vecAssembler = VectorAssembler(inputCols=numericCols, outputCol=\"features\")"
      ]
    },
    {
      "cell_type": "markdown",
      "id": "5b07dd5a-56d1-49cd-8263-e8e086ea4936",
      "metadata": {
        "pycharm": {
          "name": "#%% md\n"
        },
        "id": "5b07dd5a-56d1-49cd-8263-e8e086ea4936"
      },
      "source": [
        "## Random Forest"
      ]
    },
    {
      "cell_type": "code",
      "execution_count": 22,
      "id": "d114ffb9-3ff0-402e-9e50-1a5db9b8fe56",
      "metadata": {
        "pycharm": {
          "name": "#%%\n"
        },
        "id": "d114ffb9-3ff0-402e-9e50-1a5db9b8fe56"
      },
      "outputs": [],
      "source": [
        "from pyspark.ml.regression import RandomForestRegressor\n",
        "from pyspark.ml import Pipeline\n",
        "\n",
        "rf = RandomForestRegressor(labelCol=\"Next\", seed=42)\n",
        "pipeline = Pipeline(stages = [vecAssembler, rf])"
      ]
    },
    {
      "cell_type": "markdown",
      "id": "96c484f7-61cc-4bf9-b3bb-36a6bb244fc5",
      "metadata": {
        "pycharm": {
          "name": "#%% md\n"
        },
        "id": "96c484f7-61cc-4bf9-b3bb-36a6bb244fc5"
      },
      "source": [
        "## Grid Search"
      ]
    },
    {
      "cell_type": "code",
      "execution_count": 23,
      "id": "4714da6a-4130-4ad3-a58e-203ab8e88643",
      "metadata": {
        "pycharm": {
          "name": "#%%\n"
        },
        "id": "4714da6a-4130-4ad3-a58e-203ab8e88643"
      },
      "outputs": [],
      "source": [
        "from pyspark.ml.tuning import ParamGridBuilder\n",
        "\n",
        "paramGrid = (ParamGridBuilder()\n",
        "            .addGrid(rf.maxDepth, [2, 4, 6])\n",
        "            .addGrid(rf.numTrees, [10, 100])\n",
        "            .build())"
      ]
    },
    {
      "cell_type": "markdown",
      "id": "77c754af-888e-42ee-9c49-6e4da615615d",
      "metadata": {
        "pycharm": {
          "name": "#%% md\n"
        },
        "id": "77c754af-888e-42ee-9c49-6e4da615615d"
      },
      "source": [
        "## Cross Validation"
      ]
    },
    {
      "cell_type": "code",
      "execution_count": 24,
      "id": "e9b53050-8e8a-45a8-be2b-cff18d2a97bb",
      "metadata": {
        "pycharm": {
          "name": "#%%\n"
        },
        "id": "e9b53050-8e8a-45a8-be2b-cff18d2a97bb"
      },
      "outputs": [],
      "source": [
        "from pyspark.ml.evaluation import RegressionEvaluator\n",
        "from pyspark.ml.tuning import CrossValidator\n",
        "\n",
        "regEvaluator = RegressionEvaluator(labelCol=\"Next\",\n",
        "                                predictionCol=\"prediction\", \n",
        "                                metricName=\"rmse\")\n",
        "\n",
        "cv = CrossValidator(estimator=pipeline, \n",
        "                    evaluator=regEvaluator,\n",
        "                    estimatorParamMaps=paramGrid, \n",
        "                    numFolds=3, \n",
        "                    seed=42)"
      ]
    },
    {
      "cell_type": "code",
      "execution_count": 25,
      "id": "b404e70b-e5d0-47ec-bd43-8631030b9d34",
      "metadata": {
        "pycharm": {
          "name": "#%%\n"
        },
        "id": "b404e70b-e5d0-47ec-bd43-8631030b9d34"
      },
      "outputs": [],
      "source": [
        "cvModel = cv.setParallelism(4).fit(trainDF)"
      ]
    },
    {
      "cell_type": "code",
      "execution_count": 26,
      "id": "1d71df74-ca1d-466e-bb2a-1acbd3118dc5",
      "metadata": {
        "pycharm": {
          "name": "#%%\n"
        },
        "id": "1d71df74-ca1d-466e-bb2a-1acbd3118dc5"
      },
      "outputs": [],
      "source": [
        "cv = CrossValidator(estimator=rf, \n",
        "                    evaluator=regEvaluator,\n",
        "                    estimatorParamMaps=paramGrid, \n",
        "                    numFolds=3, \n",
        "                    parallelism=4, \n",
        "                    seed=42)\n",
        "\n",
        "pipeline = Pipeline(stages=[vecAssembler, cv])\n",
        "\n",
        "pipelineModel = pipeline.fit(trainDF)"
      ]
    },
    {
      "cell_type": "code",
      "execution_count": 27,
      "id": "c2ebd6a0-b1d1-420c-bf2c-56e0a59f7c08",
      "metadata": {
        "pycharm": {
          "name": "#%%\n"
        },
        "colab": {
          "base_uri": "https://localhost:8080/"
        },
        "id": "c2ebd6a0-b1d1-420c-bf2c-56e0a59f7c08",
        "outputId": "e624125d-89ed-4030-82c9-2a0f4d9d6975"
      },
      "outputs": [
        {
          "output_type": "execute_result",
          "data": {
            "text/plain": [
              "[({Param(parent='RandomForestRegressor_d978ea002b8c', name='maxDepth', doc='Maximum depth of the tree. (>= 0) E.g., depth 0 means 1 leaf node; depth 1 means 1 internal node + 2 leaf nodes. Must be in range [0, 30].'): 2,\n",
              "   Param(parent='RandomForestRegressor_d978ea002b8c', name='numTrees', doc='Number of trees to train (>= 1).'): 10},\n",
              "  47.33141238232539),\n",
              " ({Param(parent='RandomForestRegressor_d978ea002b8c', name='maxDepth', doc='Maximum depth of the tree. (>= 0) E.g., depth 0 means 1 leaf node; depth 1 means 1 internal node + 2 leaf nodes. Must be in range [0, 30].'): 2,\n",
              "   Param(parent='RandomForestRegressor_d978ea002b8c', name='numTrees', doc='Number of trees to train (>= 1).'): 100},\n",
              "  43.28900249925332),\n",
              " ({Param(parent='RandomForestRegressor_d978ea002b8c', name='maxDepth', doc='Maximum depth of the tree. (>= 0) E.g., depth 0 means 1 leaf node; depth 1 means 1 internal node + 2 leaf nodes. Must be in range [0, 30].'): 4,\n",
              "   Param(parent='RandomForestRegressor_d978ea002b8c', name='numTrees', doc='Number of trees to train (>= 1).'): 10},\n",
              "  18.35760208642346),\n",
              " ({Param(parent='RandomForestRegressor_d978ea002b8c', name='maxDepth', doc='Maximum depth of the tree. (>= 0) E.g., depth 0 means 1 leaf node; depth 1 means 1 internal node + 2 leaf nodes. Must be in range [0, 30].'): 4,\n",
              "   Param(parent='RandomForestRegressor_d978ea002b8c', name='numTrees', doc='Number of trees to train (>= 1).'): 100},\n",
              "  17.439944774607824),\n",
              " ({Param(parent='RandomForestRegressor_d978ea002b8c', name='maxDepth', doc='Maximum depth of the tree. (>= 0) E.g., depth 0 means 1 leaf node; depth 1 means 1 internal node + 2 leaf nodes. Must be in range [0, 30].'): 6,\n",
              "   Param(parent='RandomForestRegressor_d978ea002b8c', name='numTrees', doc='Number of trees to train (>= 1).'): 10},\n",
              "  16.840690007915516),\n",
              " ({Param(parent='RandomForestRegressor_d978ea002b8c', name='maxDepth', doc='Maximum depth of the tree. (>= 0) E.g., depth 0 means 1 leaf node; depth 1 means 1 internal node + 2 leaf nodes. Must be in range [0, 30].'): 6,\n",
              "   Param(parent='RandomForestRegressor_d978ea002b8c', name='numTrees', doc='Number of trees to train (>= 1).'): 100},\n",
              "  16.62036628664865)]"
            ]
          },
          "metadata": {},
          "execution_count": 27
        }
      ],
      "source": [
        "list(zip(cvModel.getEstimatorParamMaps(), cvModel.avgMetrics))"
      ]
    },
    {
      "cell_type": "code",
      "execution_count": 28,
      "id": "6232f714-42bd-4560-ad97-f57bc13eef26",
      "metadata": {
        "pycharm": {
          "name": "#%%\n"
        },
        "colab": {
          "base_uri": "https://localhost:8080/"
        },
        "id": "6232f714-42bd-4560-ad97-f57bc13eef26",
        "outputId": "3130bb89-c3b4-48ff-a1aa-415c6e4325f0"
      },
      "outputs": [
        {
          "output_type": "stream",
          "name": "stdout",
          "text": [
            "RMSE is 112.47297881106735\n",
            "R2 is 0.5723869215376514\n"
          ]
        }
      ],
      "source": [
        "predictionDF = pipelineModel.transform(testDF)\n",
        "\n",
        "regEvaluator = RegressionEvaluator(predictionCol=\"prediction\", labelCol=\"Next\", metricName=\"rmse\")\n",
        "\n",
        "rmse = regEvaluator.evaluate(predictionDF)\n",
        "r2 = regEvaluator.setMetricName(\"r2\").evaluate(predictionDF)\n",
        "print(f\"RMSE is {rmse}\")\n",
        "print(f\"R2 is {r2}\")"
      ]
    },
    {
      "cell_type": "code",
      "execution_count": 29,
      "id": "3ac4d3cf-3fc7-4664-b943-d0287fe9c5b5",
      "metadata": {
        "pycharm": {
          "name": "#%%\n"
        },
        "colab": {
          "base_uri": "https://localhost:8080/"
        },
        "id": "3ac4d3cf-3fc7-4664-b943-d0287fe9c5b5",
        "outputId": "1711387a-a8d3-4a7e-84f4-7d527fb9c66d"
      },
      "outputs": [
        {
          "output_type": "stream",
          "name": "stdout",
          "text": [
            "+--------------------+------------------+------------------+\n",
            "|            features|              Next|        prediction|\n",
            "+--------------------+------------------+------------------+\n",
            "|[1436.96997070312...|1438.1400146484375|1381.1177120022178|\n",
            "|[1438.14001464843...| 1415.699951171875|1381.1177120022178|\n",
            "|[1415.69995117187...|1371.7039794921875|1381.1177120022178|\n",
            "|[1371.70397949218...|1341.1400146484375| 1343.178724487436|\n",
            "|[1341.14001464843...|1390.8699951171875|1297.3409612065316|\n",
            "|[1390.86999511718...|1410.1500244140625|1373.8490518417661|\n",
            "|[1410.15002441406...|1388.0899658203125| 1343.178724487436|\n",
            "|[1388.08996582031...|1358.9100341796875|1381.1177120022178|\n",
            "|[1358.91003417968...| 1306.219970703125| 1343.178724487436|\n",
            "|[1306.21997070312...| 1254.760009765625|1297.3409612065316|\n",
            "+--------------------+------------------+------------------+\n",
            "only showing top 10 rows\n",
            "\n"
          ]
        }
      ],
      "source": [
        "predictionDF = pipelineModel.transform(testDF)\n",
        "\n",
        "predictionDF.select(\"features\", \"Next\", \"prediction\").show(10)"
      ]
    }
  ],
  "metadata": {
    "kernelspec": {
      "display_name": "Python 3 (ipykernel)",
      "language": "python",
      "name": "python3"
    },
    "language_info": {
      "codemirror_mode": {
        "name": "ipython",
        "version": 3
      },
      "file_extension": ".py",
      "mimetype": "text/x-python",
      "name": "python",
      "nbconvert_exporter": "python",
      "pygments_lexer": "ipython3",
      "version": "3.10.4"
    },
    "colab": {
      "name": "6HyperparameterTuning.ipynb",
      "provenance": []
    }
  },
  "nbformat": 4,
  "nbformat_minor": 5
}