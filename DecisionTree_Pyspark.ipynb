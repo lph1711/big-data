{
 "cells": [
  {
   "cell_type": "markdown",
   "id": "34b80c54-076b-4f7d-91ff-49799fc361b2",
   "metadata": {
    "pycharm": {
     "name": "#%% md\n"
    }
   },
   "source": [
    "# Decision Tree"
   ]
  },
  {
   "cell_type": "code",
   "execution_count": 1,
   "id": "2ff4df4a-bddc-44f2-adbd-e6e5c7e713d6",
   "metadata": {
    "pycharm": {
     "name": "#%%\n"
    }
   },
   "outputs": [
    {
     "name": "stdout",
     "output_type": "stream",
     "text": [
      "Defaulting to user installation because normal site-packages is not writeable\n",
      "Requirement already satisfied: pyspark in /home/yassinb/.local/lib/python3.10/site-packages (3.2.1)\n",
      "Requirement already satisfied: py4j==0.10.9.3 in /home/yassinb/.local/lib/python3.10/site-packages (from pyspark) (0.10.9.3)\n"
     ]
    }
   ],
   "source": [
    "!pip install pyspark"
   ]
  },
  {
   "cell_type": "code",
   "execution_count": 2,
   "id": "10322043-b3f3-4594-9433-361ec643bc38",
   "metadata": {
    "pycharm": {
     "name": "#%%\n"
    }
   },
   "outputs": [],
   "source": [
    "from pyspark.sql import SparkSession\n",
    "from pyspark.sql.types import *\n",
    "import pandas as pd\n",
    "from IPython.display import display"
   ]
  },
  {
   "cell_type": "code",
   "execution_count": 3,
   "id": "8e2d9178-4fb1-47b1-ae68-edba4b3d8900",
   "metadata": {
    "pycharm": {
     "name": "#%%\n"
    }
   },
   "outputs": [],
   "source": [
    "spark_application_name = \"Spark_Application_Name\""
   ]
  },
  {
   "cell_type": "code",
   "execution_count": 4,
   "id": "b926ed50-ec7c-44f6-94c3-89d46b183f1a",
   "metadata": {
    "pycharm": {
     "name": "#%%\n"
    }
   },
   "outputs": [
    {
     "name": "stderr",
     "output_type": "stream",
     "text": [
      "Using Spark's default log4j profile: org/apache/spark/log4j-defaults.properties\n",
      "Setting default log level to \"WARN\".\n",
      "To adjust logging level use sc.setLogLevel(newLevel). For SparkR, use setLogLevel(newLevel).\n",
      "22/06/13 11:11:40 WARN NativeCodeLoader: Unable to load native-hadoop library for your platform... using builtin-java classes where applicable\n"
     ]
    }
   ],
   "source": [
    "spark = (SparkSession.builder.appName(spark_application_name).getOrCreate())"
   ]
  },
  {
   "cell_type": "code",
   "execution_count": 5,
   "id": "d305b88e-bada-4cb0-8910-5ac7b128d2ef",
   "metadata": {
    "pycharm": {
     "name": "#%%\n"
    }
   },
   "outputs": [
    {
     "name": "stderr",
     "output_type": "stream",
     "text": [
      "                                                                                \r"
     ]
    }
   ],
   "source": [
    "filePath = \"sf-stocks-clean.parquet\"\n",
    "stocksDF = spark.read.parquet(filePath)\n",
    "(trainDF, testDF) = stocksDF.randomSplit([.8, .2], seed=42)"
   ]
  },
  {
   "cell_type": "markdown",
   "id": "35893715-a4fa-465d-859e-855ee99fb8de",
   "metadata": {
    "pycharm": {
     "name": "#%% md\n"
    }
   },
   "source": [
    "## String Indexer"
   ]
  },
  {
   "cell_type": "code",
   "execution_count": 6,
   "id": "7990386e-9476-4a1d-83d1-37622383d061",
   "metadata": {
    "pycharm": {
     "name": "#%%\n"
    }
   },
   "outputs": [],
   "source": [
    "from pyspark.ml.feature import StringIndexer\n",
    "\n",
    "categoricalCols = []\n",
    "for (field, dataType) in trainDF.dtypes:\n",
    "    if dataType == \"string\":\n",
    "        categoricalCols.append(field)\n",
    "indexOutputCols = [x + \"Index\" for x in categoricalCols]\n",
    "\n",
    "stringIndexer = StringIndexer(inputCols=categoricalCols, outputCols=indexOutputCols, handleInvalid=\"skip\")"
   ]
  },
  {
   "cell_type": "markdown",
   "id": "df9b809d-5816-478d-871c-165e933a7cb4",
   "metadata": {
    "pycharm": {
     "name": "#%% md\n"
    }
   },
   "source": [
    "## VectorAssembler"
   ]
  },
  {
   "cell_type": "code",
   "execution_count": 15,
   "id": "1204d9fa-5bf0-43d8-8a95-1722d838f8d5",
   "metadata": {
    "pycharm": {
     "name": "#%%\n"
    }
   },
   "outputs": [],
   "source": [
    "from pyspark.ml.feature import VectorAssembler\n",
    "\n",
    "# Filter for just numeric columns (and exclude price, our label)\n",
    "numericCols = []\n",
    "for (field, dataType) in trainDF.dtypes:\n",
    "    if dataType == \"double\" and field != \"Low\":\n",
    "        numericCols.append(field)\n",
    "\n",
    "# Combine output of StringIndexer defined above and numeric columns\n",
    "assemblerInputs = indexOutputCols + numericCols\n",
    "vecAssembler = VectorAssembler(inputCols=assemblerInputs, outputCol=\"features\")"
   ]
  },
  {
   "cell_type": "markdown",
   "id": "9a57d9d4-686a-49c2-992a-5bde3747e543",
   "metadata": {
    "pycharm": {
     "name": "#%% md\n"
    }
   },
   "source": [
    "## Decision Tree"
   ]
  },
  {
   "cell_type": "code",
   "execution_count": 16,
   "id": "b0c438a8-9c75-4bbf-8e02-2f96d83f0d5e",
   "metadata": {
    "pycharm": {
     "name": "#%%\n"
    }
   },
   "outputs": [],
   "source": [
    "from pyspark.ml.regression import DecisionTreeRegressor\n",
    "\n",
    "dt = DecisionTreeRegressor(labelCol=\"Low\")"
   ]
  },
  {
   "cell_type": "code",
   "execution_count": 17,
   "id": "c91e905f-e85f-46fa-99dc-39b711a79001",
   "metadata": {
    "pycharm": {
     "name": "#%%\n"
    }
   },
   "outputs": [],
   "source": [
    "from pyspark.ml import Pipeline\n",
    "\n",
    "# Combine stages into pipeline\n",
    "stages = [stringIndexer, vecAssembler, dt]\n",
    "pipeline = Pipeline(stages=stages)\n",
    "\n",
    "pipelineModel = pipeline.fit(trainDF)"
   ]
  },
  {
   "cell_type": "code",
   "execution_count": 10,
   "id": "78db9e81-32f9-4323-bed8-ab6c49382588",
   "metadata": {
    "pycharm": {
     "name": "#%%\n"
    }
   },
   "outputs": [],
   "source": [
    "# MaxBins\n",
    "# Did not set Maxbins because we only have 1 categorical feature in our df (Date) and Max Bins\n",
    "# has to be at least be the equal to the number of categorical features, and its default is already\n",
    "# at 32."
   ]
  },
  {
   "cell_type": "markdown",
   "id": "435da1af-1943-4ebc-96c3-64efc3848c99",
   "metadata": {
    "pycharm": {
     "name": "#%% md\n"
    }
   },
   "source": [
    "## Pipeline"
   ]
  },
  {
   "cell_type": "code",
   "execution_count": 18,
   "id": "b6fe9f0b-a55b-43e0-aea7-0ef958e92e11",
   "metadata": {
    "pycharm": {
     "name": "#%%\n"
    }
   },
   "outputs": [],
   "source": [
    "pipelineModel = pipeline.fit(trainDF)"
   ]
  },
  {
   "cell_type": "markdown",
   "id": "83b37efc-f6e2-4818-ae61-7badcfc8c92a",
   "metadata": {
    "pycharm": {
     "name": "#%% md\n"
    }
   },
   "source": [
    "## Visualize the Decision Tree"
   ]
  },
  {
   "cell_type": "code",
   "execution_count": 19,
   "id": "b15d8314-9841-4269-8a17-8bfdc0dfdb87",
   "metadata": {
    "pycharm": {
     "name": "#%%\n"
    }
   },
   "outputs": [
    {
     "name": "stdout",
     "output_type": "stream",
     "text": [
      "DecisionTreeRegressionModel: uid=DecisionTreeRegressor_5fa9f3e08449, depth=5, numNodes=63, numFeatures=6\n",
      "  If (feature 0 in {0.0,1.0,3.0,4.0,6.0})\n",
      "   If (feature 5 <= 148.97000122070312)\n",
      "    If (feature 3 <= 83.76499938964844)\n",
      "     If (feature 2 <= 59.36199951171875)\n",
      "      If (feature 2 <= 48.48124885559082)\n",
      "       Predict: 41.82414340573874\n",
      "      Else (feature 2 > 48.48124885559082)\n",
      "       Predict: 54.02548275173271\n",
      "     Else (feature 2 > 59.36199951171875)\n",
      "      If (feature 2 <= 69.94199752807617)\n",
      "       Predict: 65.86217955905859\n",
      "      Else (feature 2 > 69.94199752807617)\n",
      "       Predict: 75.84026235904334\n",
      "    Else (feature 3 > 83.76499938964844)\n",
      "     If (feature 5 <= 117.44313049316406)\n",
      "      If (feature 5 <= 104.53890991210938)\n",
      "       Predict: 96.86899994757482\n",
      "      Else (feature 5 > 104.53890991210938)\n",
      "       Predict: 113.88738145828248\n",
      "     Else (feature 5 > 117.44313049316406)\n",
      "      If (feature 2 <= 137.08499908447266)\n",
      "       Predict: 130.8158513322661\n",
      "      Else (feature 2 > 137.08499908447266)\n",
      "       Predict: 144.55187561793358\n",
      "   Else (feature 5 > 148.97000122070312)\n",
      "    If (feature 2 <= 268.8500061035156)\n",
      "     If (feature 2 <= 195.58499908447266)\n",
      "      If (feature 2 <= 173.15499877929688)\n",
      "       Predict: 163.48711297205622\n",
      "      Else (feature 2 > 173.15499877929688)\n",
      "       Predict: 184.8707608876738\n",
      "     Else (feature 2 > 195.58499908447266)\n",
      "      If (feature 5 <= 213.15999603271484)\n",
      "       Predict: 207.11005039215087\n",
      "      Else (feature 5 > 213.15999603271484)\n",
      "       Predict: 242.10455936455875\n",
      "    Else (feature 2 > 268.8500061035156)\n",
      "     If (feature 2 <= 483.25)\n",
      "      If (feature 0 in {3.0})\n",
      "       Predict: 283.15694851345484\n",
      "      Else (feature 0 not in {3.0})\n",
      "       Predict: 396.36915391491306\n",
      "     Else (feature 2 > 483.25)\n",
      "      If (feature 4 <= 3.565855E7)\n",
      "       Predict: 526.3623571777343\n",
      "      Else (feature 4 > 3.565855E7)\n",
      "       Predict: 566.7014247349331\n",
      "  Else (feature 0 not in {0.0,1.0,3.0,4.0,6.0})\n",
      "   If (feature 2 <= 1631.5250244140625)\n",
      "    If (feature 3 <= 1241.60498046875)\n",
      "     If (feature 2 <= 990.1650085449219)\n",
      "      If (feature 3 <= 908.0699768066406)\n",
      "       Predict: 840.9488270676981\n",
      "      Else (feature 3 > 908.0699768066406)\n",
      "       Predict: 956.8836502075195\n",
      "     Else (feature 2 > 990.1650085449219)\n",
      "      If (feature 3 <= 1077.8699951171875)\n",
      "       Predict: 1045.2920309582596\n",
      "      Else (feature 3 > 1077.8699951171875)\n",
      "       Predict: 1163.1989776706994\n",
      "    Else (feature 3 > 1241.60498046875)\n",
      "     If (feature 2 <= 1460.5250244140625)\n",
      "      If (feature 2 <= 1239.155029296875)\n",
      "       Predict: 1252.1488850911458\n",
      "      Else (feature 2 > 1239.155029296875)\n",
      "       Predict: 1378.745029296875\n",
      "     Else (feature 2 > 1460.5250244140625)\n",
      "      If (feature 3 <= 1633.175048828125)\n",
      "       Predict: 1557.0723205970612\n",
      "      Else (feature 3 > 1633.175048828125)\n",
      "       Predict: 1663.6788872612847\n",
      "   Else (feature 2 > 1631.5250244140625)\n",
      "    If (feature 1 <= 1958.3400268554688)\n",
      "     If (feature 3 <= 1791.8599853515625)\n",
      "      If (feature 2 <= 1793.0050048828125)\n",
      "       Predict: 1738.0263099407327\n",
      "      Else (feature 2 > 1793.0050048828125)\n",
      "       Predict: 1809.642857142857\n",
      "     Else (feature 3 > 1791.8599853515625)\n",
      "      If (feature 2 <= 1793.0050048828125)\n",
      "       Predict: 1819.7364327566963\n",
      "      Else (feature 2 > 1793.0050048828125)\n",
      "       Predict: 1896.7369142297196\n",
      "    Else (feature 1 > 1958.3400268554688)\n",
      "     If (feature 3 <= 1978.7449951171875)\n",
      "      If (feature 4 <= 5924900.0)\n",
      "       Predict: 2003.2799886067708\n",
      "      Else (feature 4 > 5924900.0)\n",
      "       Predict: 2034.5999755859375\n",
      "     Else (feature 3 > 1978.7449951171875)\n",
      "      If (feature 4 <= 3137800.0)\n",
      "       Predict: 2580.9229278564453\n",
      "      Else (feature 4 > 3137800.0)\n",
      "       Predict: 2870.1531218317627\n",
      "\n"
     ]
    }
   ],
   "source": [
    "dtModel = pipelineModel.stages[-1]\n",
    "print(dtModel.toDebugString)"
   ]
  },
  {
   "cell_type": "markdown",
   "id": "539c6fdd-5bc2-47bb-b237-bf2a437b4942",
   "metadata": {
    "pycharm": {
     "name": "#%% md\n"
    }
   },
   "source": [
    "## Feature Importance"
   ]
  },
  {
   "cell_type": "code",
   "execution_count": 20,
   "id": "9a877708-f07e-43e6-9dda-9fa79e8624ad",
   "metadata": {
    "pycharm": {
     "name": "#%%\n"
    }
   },
   "outputs": [
    {
     "data": {
      "text/plain": [
       "SparseVector(6, {0: 0.7927, 1: 0.0421, 2: 0.1374, 3: 0.0201, 4: 0.0007, 5: 0.007})"
      ]
     },
     "execution_count": 20,
     "metadata": {},
     "output_type": "execute_result"
    }
   ],
   "source": [
    "dtModel = pipelineModel.stages[-1]\n",
    "dtModel.featureImportances"
   ]
  },
  {
   "cell_type": "markdown",
   "id": "e9d04eb7-6d57-4862-b1c3-dd6a103b373b",
   "metadata": {
    "pycharm": {
     "name": "#%% md\n"
    }
   },
   "source": [
    "## Interpreting Feature Importance"
   ]
  },
  {
   "cell_type": "code",
   "execution_count": 21,
   "id": "e917b259-def6-4aae-b87c-972c0f24751c",
   "metadata": {
    "pycharm": {
     "name": "#%%\n"
    }
   },
   "outputs": [
    {
     "data": {
      "text/html": [
       "<div>\n",
       "<style scoped>\n",
       "    .dataframe tbody tr th:only-of-type {\n",
       "        vertical-align: middle;\n",
       "    }\n",
       "\n",
       "    .dataframe tbody tr th {\n",
       "        vertical-align: top;\n",
       "    }\n",
       "\n",
       "    .dataframe thead th {\n",
       "        text-align: right;\n",
       "    }\n",
       "</style>\n",
       "<table border=\"1\" class=\"dataframe\">\n",
       "  <thead>\n",
       "    <tr style=\"text-align: right;\">\n",
       "      <th></th>\n",
       "      <th>feature</th>\n",
       "      <th>importance</th>\n",
       "    </tr>\n",
       "  </thead>\n",
       "  <tbody>\n",
       "    <tr>\n",
       "      <th>0</th>\n",
       "      <td>company_nameIndex</td>\n",
       "      <td>0.792699</td>\n",
       "    </tr>\n",
       "    <tr>\n",
       "      <th>2</th>\n",
       "      <td>Open</td>\n",
       "      <td>0.137401</td>\n",
       "    </tr>\n",
       "    <tr>\n",
       "      <th>1</th>\n",
       "      <td>Low</td>\n",
       "      <td>0.042075</td>\n",
       "    </tr>\n",
       "    <tr>\n",
       "      <th>3</th>\n",
       "      <td>Close</td>\n",
       "      <td>0.020082</td>\n",
       "    </tr>\n",
       "    <tr>\n",
       "      <th>5</th>\n",
       "      <td>AdjClose</td>\n",
       "      <td>0.007049</td>\n",
       "    </tr>\n",
       "    <tr>\n",
       "      <th>4</th>\n",
       "      <td>Volume</td>\n",
       "      <td>0.000694</td>\n",
       "    </tr>\n",
       "  </tbody>\n",
       "</table>\n",
       "</div>"
      ],
      "text/plain": [
       "             feature  importance\n",
       "0  company_nameIndex    0.792699\n",
       "2               Open    0.137401\n",
       "1                Low    0.042075\n",
       "3              Close    0.020082\n",
       "5           AdjClose    0.007049\n",
       "4             Volume    0.000694"
      ]
     },
     "execution_count": 21,
     "metadata": {},
     "output_type": "execute_result"
    }
   ],
   "source": [
    "import pandas as pd\n",
    "dtModel = pipelineModel.stages[-1]\n",
    "featureImp = pd.DataFrame(\n",
    "  list(zip(vecAssembler.getInputCols(), dtModel.featureImportances)),\n",
    "  columns=[\"feature\", \"importance\"])\n",
    "featureImp.sort_values(by=\"importance\", ascending=False)"
   ]
  },
  {
   "cell_type": "code",
   "execution_count": 22,
   "id": "4cea705f-03de-4bac-8556-d2a022fb77e1",
   "metadata": {
    "pycharm": {
     "name": "#%%\n"
    }
   },
   "outputs": [],
   "source": [
    "## Apply model to test set"
   ]
  },
  {
   "cell_type": "code",
   "execution_count": 24,
   "id": "74931cba-6322-4c5d-84a8-d3295a129f32",
   "metadata": {
    "pycharm": {
     "name": "#%%\n"
    }
   },
   "outputs": [
    {
     "name": "stdout",
     "output_type": "stream",
     "text": [
      "+--------------------+-----------------+------------------+\n",
      "|            features|             High|        prediction|\n",
      "+--------------------+-----------------+------------------+\n",
      "|[5.0,3378.0,3450....|           3453.0|2870.1531218317627|\n",
      "|[5.0,3288.8798828...|3366.800048828125|2870.1531218317627|\n",
      "|[5.0,3068.3898925...|  3344.2900390625|2870.1531218317627|\n",
      "|[5.0,3153.3000488...| 3282.97998046875|2870.1531218317627|\n",
      "|[5.0,3192.0100097...|           3266.0|2870.1531218317627|\n",
      "|[5.0,3157.1799316...|3248.949951171875|2870.1531218317627|\n",
      "|[5.0,3135.6999511...|           3215.0|2870.1531218317627|\n",
      "|[5.0,3140.8500976...|3202.530029296875|2870.1531218317627|\n",
      "|[5.0,3135.2600097...|          3189.25|2870.1531218317627|\n",
      "|[5.0,3108.9199218...| 3175.02001953125|2870.1531218317627|\n",
      "|[5.0,3101.4199218...|3174.389892578125|2870.1531218317627|\n",
      "|[5.0,3101.2099609...|3167.239990234375|2870.1531218317627|\n",
      "|[5.0,3065.4599609...|          3139.75|2870.1531218317627|\n",
      "|[5.0,2950.0,3089....|  3127.3798828125|2870.1531218317627|\n",
      "|[5.0,3080.9199218...|           3125.0|2580.9229278564453|\n",
      "|[5.0,3019.4799804...|           3114.0|2870.1531218317627|\n",
      "|[5.0,2973.1799316...| 3098.35009765625|2870.1531218317627|\n",
      "|[5.0,3012.4299316...|3083.969970703125|2870.1531218317627|\n",
      "|[5.0,2990.0,3058....|3069.550048828125|2870.1531218317627|\n",
      "|[5.0,2996.7700195...|3039.159912109375|2580.9229278564453|\n",
      "+--------------------+-----------------+------------------+\n",
      "only showing top 20 rows\n",
      "\n"
     ]
    }
   ],
   "source": [
    "predDF = pipelineModel.transform(testDF)\n",
    "\n",
    "predDF.select(\"features\", \"Low\", \"prediction\").orderBy(\"Low\", ascending=False).show()"
   ]
  },
  {
   "cell_type": "code",
   "execution_count": 25,
   "id": "6f2323b0-400a-43a7-a8c5-49180540e54a",
   "metadata": {
    "pycharm": {
     "name": "#%%\n"
    }
   },
   "outputs": [
    {
     "name": "stdout",
     "output_type": "stream",
     "text": [
      "RMSE is 90.76386060381067\n",
      "R2 is 0.9842393424872098\n"
     ]
    }
   ],
   "source": [
    "from pyspark.ml.evaluation import RegressionEvaluator\n",
    "\n",
    "regressionEvaluator = RegressionEvaluator(predictionCol=\"prediction\", \n",
    "                                          labelCol=\"Low\",\n",
    "                                          metricName=\"rmse\")\n",
    "\n",
    "rmse = regressionEvaluator.evaluate(predDF)\n",
    "r2 = regressionEvaluator.setMetricName(\"r2\").evaluate(predDF)\n",
    "print(f\"RMSE is {rmse}\")\n",
    "print(f\"R2 is {r2}\")"
   ]
  },
  {
   "cell_type": "code",
   "execution_count": 27,
   "id": "c36ddad7-8f51-4bb0-84a7-08b1cb75f430",
   "metadata": {
    "pycharm": {
     "name": "#%%\n"
    }
   },
   "outputs": [],
   "source": [
    "# Way better than LogScale"
   ]
  }
 ],
 "metadata": {
  "kernelspec": {
   "display_name": "Python 3 (ipykernel)",
   "language": "python",
   "name": "python3"
  },
  "language_info": {
   "codemirror_mode": {
    "name": "ipython",
    "version": 3
   },
   "file_extension": ".py",
   "mimetype": "text/x-python",
   "name": "python",
   "nbconvert_exporter": "python",
   "pygments_lexer": "ipython3",
   "version": "3.10.4"
  }
 },
 "nbformat": 4,
 "nbformat_minor": 5
}