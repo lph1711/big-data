{
 "cells": [
  {
   "cell_type": "code",
   "execution_count": 71,
   "id": "4b5d3297-3f0a-46b6-86c8-1247977e4329",
   "metadata": {
    "pycharm": {
     "name": "#%%\n"
    },
    "colab": {
     "base_uri": "https://localhost:8080/"
    },
    "id": "4b5d3297-3f0a-46b6-86c8-1247977e4329",
    "outputId": "5c6df2d1-7178-4e8e-fa90-58cb3d2d654d"
   },
   "outputs": [
    {
     "output_type": "stream",
     "name": "stdout",
     "text": [
      "Looking in indexes: https://pypi.org/simple, https://us-python.pkg.dev/colab-wheels/public/simple/\n",
      "Requirement already satisfied: pyspark in /usr/local/lib/python3.7/dist-packages (3.3.0)\n",
      "Requirement already satisfied: py4j==0.10.9.5 in /usr/local/lib/python3.7/dist-packages (from pyspark) (0.10.9.5)\n"
     ]
    }
   ],
   "source": [
    "!pip install pyspark"
   ]
  },
  {
   "cell_type": "code",
   "execution_count": 72,
   "id": "db0074cd-3d83-4dff-84ac-4113fd7ecb32",
   "metadata": {
    "pycharm": {
     "name": "#%%\n"
    },
    "id": "db0074cd-3d83-4dff-84ac-4113fd7ecb32"
   },
   "outputs": [],
   "source": [
    "from pyspark.sql import SparkSession\n",
    "from pyspark.sql.types import *\n",
    "import pandas as pd\n",
    "from IPython.display import display"
   ]
  },
  {
   "cell_type": "code",
   "execution_count": 73,
   "id": "984c76ad-0f1c-4e9b-954e-4a1340f99a39",
   "metadata": {
    "pycharm": {
     "name": "#%%\n"
    },
    "id": "984c76ad-0f1c-4e9b-954e-4a1340f99a39"
   },
   "outputs": [],
   "source": [
    "spark_application_name = \"Spark_Application_Name\""
   ]
  },
  {
   "cell_type": "code",
   "execution_count": 74,
   "outputs": [],
   "source": [
    "spark = (SparkSession.builder.appName(spark_application_name).getOrCreate())"
   ],
   "metadata": {
    "pycharm": {
     "name": "#%%\n"
    },
    "id": "Gd7mBVysLFoh"
   },
   "id": "Gd7mBVysLFoh"
  },
  {
   "cell_type": "markdown",
   "source": [
    "## Reading the dataset\n",
    "\n",
    "Google is the stock data of choice due to its completeness in data and also its fluctuation is not as sharp and strong as other stocks such as Amazon or Zoom.\n",
    "\n",
    "* Help the estimator to have an easier time predicting the stock\n"
   ],
   "metadata": {
    "collapsed": false,
    "pycharm": {
     "name": "#%% md\n"
    }
   }
  },
  {
   "cell_type": "code",
   "execution_count": 75,
   "id": "bc4d4a61-f8ee-4257-9409-1ba161846a9f",
   "metadata": {
    "pycharm": {
     "name": "#%%\n"
    },
    "id": "bc4d4a61-f8ee-4257-9409-1ba161846a9f"
   },
   "outputs": [],
   "source": [
    "google_path = \"stocks_data/GOOGLE.csv\"\n",
    "df = spark.read.csv(google_path, header=\"true\", inferSchema=\"true\", multiLine=\"true\", escape='\"')"
   ]
  },
  {
   "cell_type": "code",
   "execution_count": 76,
   "id": "691325e2-bd41-4c6d-8ce6-3cae4c3b9499",
   "metadata": {
    "pycharm": {
     "name": "#%%\n"
    },
    "id": "691325e2-bd41-4c6d-8ce6-3cae4c3b9499"
   },
   "outputs": [],
   "source": [
    "from functools import reduce\n",
    "from pyspark.sql import DataFrame"
   ]
  },
  {
   "cell_type": "code",
   "execution_count": 77,
   "id": "bd3af04c-8b4d-4132-b357-fffc561a3aa9",
   "metadata": {
    "pycharm": {
     "name": "#%%\n"
    },
    "colab": {
     "base_uri": "https://localhost:8080/",
     "height": 34
    },
    "id": "bd3af04c-8b4d-4132-b357-fffc561a3aa9",
    "outputId": "f15c0cbb-3cf7-4c6c-fadc-da5e11cf73d9"
   },
   "outputs": [
    {
     "output_type": "display_data",
     "data": {
      "text/plain": [
       "DataFrame[Date: timestamp, High: double, Low: double, Open: double, Close: double, Volume: int, Adj Close: double, company_name: string]"
      ]
     },
     "metadata": {}
    }
   ],
   "source": [
    "display(df)"
   ]
  },
  {
   "cell_type": "code",
   "execution_count": 78,
   "id": "9e62822f-3d4b-4a93-b991-ca54bbc82503",
   "metadata": {
    "pycharm": {
     "name": "#%%\n"
    },
    "colab": {
     "base_uri": "https://localhost:8080/"
    },
    "id": "9e62822f-3d4b-4a93-b991-ca54bbc82503",
    "outputId": "6fe68eb5-57aa-421a-faf3-36a8dc157dff"
   },
   "outputs": [
    {
     "output_type": "stream",
     "name": "stdout",
     "text": [
      "root\n",
      " |-- Date: timestamp (nullable = true)\n",
      " |-- High: double (nullable = true)\n",
      " |-- Low: double (nullable = true)\n",
      " |-- Open: double (nullable = true)\n",
      " |-- Close: double (nullable = true)\n",
      " |-- Volume: integer (nullable = true)\n",
      " |-- Adj Close: double (nullable = true)\n",
      " |-- company_name: string (nullable = true)\n",
      "\n"
     ]
    }
   ],
   "source": [
    "df.printSchema()"
   ]
  },
  {
   "cell_type": "markdown",
   "source": [
    "## Data cleansing\n",
    "\n",
    "Cast Date column to of type `Datetime`"
   ],
   "metadata": {
    "collapsed": false,
    "pycharm": {
     "name": "#%% md\n"
    }
   }
  },
  {
   "cell_type": "code",
   "execution_count": 79,
   "id": "9955e1f3-171c-410c-964a-1d777b0ea058",
   "metadata": {
    "pycharm": {
     "name": "#%%\n"
    },
    "colab": {
     "base_uri": "https://localhost:8080/"
    },
    "id": "9955e1f3-171c-410c-964a-1d777b0ea058",
    "outputId": "d75afda4-03e3-411f-e8b6-5ca7d6a3ec72"
   },
   "outputs": [
    {
     "output_type": "stream",
     "name": "stdout",
     "text": [
      "+----------+-----------------+-----------------+-----------------+-----------------+-------+-----------------+------------+\n",
      "|      Date|             High|              Low|             Open|            Close| Volume|        Adj Close|company_name|\n",
      "+----------+-----------------+-----------------+-----------------+-----------------+-------+-----------------+------------+\n",
      "|2017-01-03|789.6300048828125|775.7999877929688|778.8099975585938|786.1400146484375|1657300|786.1400146484375|      GOOGLE|\n",
      "|2017-01-04|791.3400268554688|783.1599731445312|788.3599853515625|786.9000244140625|1073000|786.9000244140625|      GOOGLE|\n",
      "|2017-01-05|  794.47998046875|  785.02001953125|786.0800170898438|  794.02001953125|1335200|  794.02001953125|      GOOGLE|\n",
      "|2017-01-06|807.9000244140625|792.2039794921875| 795.260009765625|806.1500244140625|1640200|806.1500244140625|      GOOGLE|\n",
      "|2017-01-09|809.9660034179688|802.8300170898438|806.4000244140625|806.6500244140625|1274600|806.6500244140625|      GOOGLE|\n",
      "|2017-01-10|809.1300048828125| 803.510009765625|807.8599853515625|804.7899780273438|1176800|804.7899780273438|      GOOGLE|\n",
      "|2017-01-11|808.1500244140625|801.3699951171875|            805.0|807.9099731445312|1065900|807.9099731445312|      GOOGLE|\n",
      "|2017-01-12|807.3900146484375|799.1699829101562|807.1400146484375|806.3599853515625|1353100|806.3599853515625|      GOOGLE|\n",
      "|2017-01-13|811.2239990234375|806.6900024414062|  807.47998046875|807.8800048828125|1099200|807.8800048828125|      GOOGLE|\n",
      "|2017-01-17|807.1400146484375|800.3699951171875|807.0800170898438|804.6099853515625|1362100|804.6099853515625|      GOOGLE|\n",
      "|2017-01-18|806.2050170898438| 800.989990234375|805.8099975585938|806.0700073242188|1294400|806.0700073242188|      GOOGLE|\n",
      "|2017-01-19|  809.47998046875|801.7999877929688|805.1199951171875|802.1749877929688| 919300|802.1749877929688|      GOOGLE|\n",
      "|2017-01-20|806.9099731445312|801.6900024414062|806.9099731445312|  805.02001953125|1670000|  805.02001953125|      GOOGLE|\n",
      "|2017-01-23|820.8699951171875| 803.739990234375|           807.25|819.3099975585938|1963600|819.3099975585938|      GOOGLE|\n",
      "|2017-01-24|825.9000244140625|817.8209838867188|822.2999877929688|823.8699951171875|1474000|823.8699951171875|      GOOGLE|\n",
      "|2017-01-25|  835.77001953125|825.0599975585938|829.6199951171875|835.6699829101562|1494500|835.6699829101562|      GOOGLE|\n",
      "|2017-01-26|            838.0| 827.010009765625|837.8099975585938|832.1500244140625|2973900|832.1500244140625|      GOOGLE|\n",
      "|2017-01-27|841.9500122070312|820.4400024414062|834.7100219726562|823.3099975585938|2965800|823.3099975585938|      GOOGLE|\n",
      "|2017-01-30|815.8400268554688|799.7999877929688|814.6599731445312|802.3200073242188|3246600|802.3200073242188|      GOOGLE|\n",
      "|2017-01-31|           801.25|  790.52001953125|796.8599853515625|796.7899780273438|2160600|796.7899780273438|      GOOGLE|\n",
      "+----------+-----------------+-----------------+-----------------+-----------------+-------+-----------------+------------+\n",
      "only showing top 20 rows\n",
      "\n"
     ]
    }
   ],
   "source": [
    "from pyspark.sql.functions import *\n",
    "\n",
    "df = df.withColumn(\"Date\", to_date(col(\"Date\"), \"yyyy-MM-dd\"))\n",
    "df.show()"
   ]
  },
  {
   "cell_type": "code",
   "execution_count": 80,
   "id": "7ceb65e8-07db-479a-9bf3-26bc580875fe",
   "metadata": {
    "pycharm": {
     "name": "#%%\n"
    },
    "colab": {
     "base_uri": "https://localhost:8080/"
    },
    "id": "7ceb65e8-07db-479a-9bf3-26bc580875fe",
    "outputId": "5ab50c32-1b51-442d-86f7-33a68dbade91"
   },
   "outputs": [
    {
     "output_type": "stream",
     "name": "stdout",
     "text": [
      "root\n",
      " |-- Date: date (nullable = true)\n",
      " |-- High: double (nullable = true)\n",
      " |-- Low: double (nullable = true)\n",
      " |-- Open: double (nullable = true)\n",
      " |-- Close: double (nullable = true)\n",
      " |-- Volume: integer (nullable = true)\n",
      " |-- Adj Close: double (nullable = true)\n",
      " |-- company_name: string (nullable = true)\n",
      "\n"
     ]
    }
   ],
   "source": [
    "df.printSchema()"
   ]
  },
  {
   "cell_type": "markdown",
   "source": [
    "Fill the na if there is any at the Volume column with 0 (Precaution)"
   ],
   "metadata": {
    "collapsed": false,
    "pycharm": {
     "name": "#%% md\n"
    }
   }
  },
  {
   "cell_type": "code",
   "execution_count": 81,
   "id": "03ef88fc-f627-484b-868c-73fd680861ee",
   "metadata": {
    "pycharm": {
     "name": "#%%\n"
    },
    "colab": {
     "base_uri": "https://localhost:8080/"
    },
    "id": "03ef88fc-f627-484b-868c-73fd680861ee",
    "outputId": "1d0a5368-4617-4bec-947f-ae66e95cbc09"
   },
   "outputs": [
    {
     "output_type": "stream",
     "name": "stdout",
     "text": [
      "+----------+-----------------+-----------------+-----------------+-----------------+-------+-----------------+------------+\n",
      "|      Date|             High|              Low|             Open|            Close| Volume|        Adj Close|company_name|\n",
      "+----------+-----------------+-----------------+-----------------+-----------------+-------+-----------------+------------+\n",
      "|2017-01-03|789.6300048828125|775.7999877929688|778.8099975585938|786.1400146484375|1657300|786.1400146484375|      GOOGLE|\n",
      "|2017-01-04|791.3400268554688|783.1599731445312|788.3599853515625|786.9000244140625|1073000|786.9000244140625|      GOOGLE|\n",
      "|2017-01-05|  794.47998046875|  785.02001953125|786.0800170898438|  794.02001953125|1335200|  794.02001953125|      GOOGLE|\n",
      "|2017-01-06|807.9000244140625|792.2039794921875| 795.260009765625|806.1500244140625|1640200|806.1500244140625|      GOOGLE|\n",
      "|2017-01-09|809.9660034179688|802.8300170898438|806.4000244140625|806.6500244140625|1274600|806.6500244140625|      GOOGLE|\n",
      "|2017-01-10|809.1300048828125| 803.510009765625|807.8599853515625|804.7899780273438|1176800|804.7899780273438|      GOOGLE|\n",
      "|2017-01-11|808.1500244140625|801.3699951171875|            805.0|807.9099731445312|1065900|807.9099731445312|      GOOGLE|\n",
      "|2017-01-12|807.3900146484375|799.1699829101562|807.1400146484375|806.3599853515625|1353100|806.3599853515625|      GOOGLE|\n",
      "|2017-01-13|811.2239990234375|806.6900024414062|  807.47998046875|807.8800048828125|1099200|807.8800048828125|      GOOGLE|\n",
      "|2017-01-17|807.1400146484375|800.3699951171875|807.0800170898438|804.6099853515625|1362100|804.6099853515625|      GOOGLE|\n",
      "|2017-01-18|806.2050170898438| 800.989990234375|805.8099975585938|806.0700073242188|1294400|806.0700073242188|      GOOGLE|\n",
      "|2017-01-19|  809.47998046875|801.7999877929688|805.1199951171875|802.1749877929688| 919300|802.1749877929688|      GOOGLE|\n",
      "|2017-01-20|806.9099731445312|801.6900024414062|806.9099731445312|  805.02001953125|1670000|  805.02001953125|      GOOGLE|\n",
      "|2017-01-23|820.8699951171875| 803.739990234375|           807.25|819.3099975585938|1963600|819.3099975585938|      GOOGLE|\n",
      "|2017-01-24|825.9000244140625|817.8209838867188|822.2999877929688|823.8699951171875|1474000|823.8699951171875|      GOOGLE|\n",
      "|2017-01-25|  835.77001953125|825.0599975585938|829.6199951171875|835.6699829101562|1494500|835.6699829101562|      GOOGLE|\n",
      "|2017-01-26|            838.0| 827.010009765625|837.8099975585938|832.1500244140625|2973900|832.1500244140625|      GOOGLE|\n",
      "|2017-01-27|841.9500122070312|820.4400024414062|834.7100219726562|823.3099975585938|2965800|823.3099975585938|      GOOGLE|\n",
      "|2017-01-30|815.8400268554688|799.7999877929688|814.6599731445312|802.3200073242188|3246600|802.3200073242188|      GOOGLE|\n",
      "|2017-01-31|           801.25|  790.52001953125|796.8599853515625|796.7899780273438|2160600|796.7899780273438|      GOOGLE|\n",
      "+----------+-----------------+-----------------+-----------------+-----------------+-------+-----------------+------------+\n",
      "only showing top 20 rows\n",
      "\n"
     ]
    }
   ],
   "source": [
    "cleanDF = df.na.fill(value=0, subset=[\"Volume\"])\n",
    "cleanDF.show()"
   ]
  },
  {
   "cell_type": "code",
   "execution_count": 82,
   "id": "9f5c6594-244c-48e1-a9d9-1294ba2170ab",
   "metadata": {
    "pycharm": {
     "name": "#%%\n"
    },
    "id": "9f5c6594-244c-48e1-a9d9-1294ba2170ab"
   },
   "outputs": [],
   "source": [
    "outputPath = \"stocks-clean.parquet\"\n",
    "\n",
    "noNullsDF = cleanDF.withColumnRenamed(\"Adj Close\", \"AdjClose\")\n",
    "noNullsDF.write.mode(\"overwrite\").parquet(outputPath)"
   ]
  },
  {
   "cell_type": "markdown",
   "id": "4b13c242-8df9-42fc-ac5e-33546d3edd0f",
   "metadata": {
    "pycharm": {
     "name": "#%% md\n"
    },
    "id": "4b13c242-8df9-42fc-ac5e-33546d3edd0f"
   },
   "source": [
    "## Add Prediction Column\n",
    "\n",
    "* The goal of this prediction model is able to predict any given column the value of the next day\n",
    "* The next day is chosen because the change would not be as drastic and therefore easier to predict rather than next days, week(s), month(s)\n",
    "* Down here in the example is `High` but we did a test run with all the column"
   ]
  },
  {
   "cell_type": "code",
   "execution_count": 83,
   "id": "992b9b24-6c52-4575-9d11-1c00cffef14b",
   "metadata": {
    "pycharm": {
     "name": "#%%\n"
    },
    "id": "992b9b24-6c52-4575-9d11-1c00cffef14b"
   },
   "outputs": [],
   "source": [
    "filePath = \"stocks-clean.parquet\"\n",
    "stocksDF = spark.read.parquet(filePath)"
   ]
  },
  {
   "cell_type": "code",
   "execution_count": 84,
   "id": "15caecb8-6adb-4227-a429-10703bdc5e66",
   "metadata": {
    "pycharm": {
     "name": "#%%\n"
    },
    "id": "15caecb8-6adb-4227-a429-10703bdc5e66"
   },
   "outputs": [],
   "source": [
    "from pyspark.sql.functions import lead, col\n",
    "from pyspark.sql import Window\n",
    "\n",
    "w = Window.orderBy(\"Date\")\n",
    "\n",
    "stocksDF = stocksDF.withColumn(\"Next\", lead(\"High\",1,0).over(w))"
   ]
  },
  {
   "cell_type": "code",
   "execution_count": 85,
   "id": "df2ace08-93b0-47e5-b731-abf7c8dd304b",
   "metadata": {
    "pycharm": {
     "name": "#%%\n"
    },
    "colab": {
     "base_uri": "https://localhost:8080/",
     "height": 34
    },
    "id": "df2ace08-93b0-47e5-b731-abf7c8dd304b",
    "outputId": "21d439f3-bdec-4f88-bcd7-550f6ff92e82"
   },
   "outputs": [
    {
     "output_type": "display_data",
     "data": {
      "text/plain": [
       "DataFrame[Date: date, High: double, Low: double, Open: double, Close: double, Volume: int, AdjClose: double, company_name: string, Next: double]"
      ]
     },
     "metadata": {}
    }
   ],
   "source": [
    "stocksDF = stocksDF.filter(col(\"Next\")!=0.0)\n",
    "display(stocksDF)"
   ]
  },
  {
   "cell_type": "code",
   "execution_count": 86,
   "id": "12e4126f-a87b-4ae9-aecd-86de44d14597",
   "metadata": {
    "pycharm": {
     "name": "#%%\n"
    },
    "id": "12e4126f-a87b-4ae9-aecd-86de44d14597"
   },
   "outputs": [],
   "source": [
    "outputPath = \"stocks-final.parquet\"\n",
    "stocksDF.write.mode(\"overwrite\").parquet(outputPath)"
   ]
  },
  {
   "cell_type": "markdown",
   "source": [
    "## Split into test and train\n",
    "\n",
    "* Split with preserved chronological order to help the model to be better at predicting the future\n",
    "* 80/20 split like standard"
   ],
   "metadata": {
    "id": "CG-u0h_FCSBF",
    "pycharm": {
     "name": "#%% md\n"
    }
   },
   "id": "CG-u0h_FCSBF"
  },
  {
   "cell_type": "code",
   "source": [
    "from pyspark.sql.functions import percent_rank\n",
    "from pyspark.sql import Window\n",
    "\n",
    "stocksDF = stocksDF.withColumn(\"rank\", percent_rank().over(Window.partitionBy().orderBy(\"Date\"))).drop(\"company_name\")"
   ],
   "metadata": {
    "id": "9A_ywRAzCPn3",
    "pycharm": {
     "name": "#%%\n"
    }
   },
   "id": "9A_ywRAzCPn3",
   "execution_count": 87,
   "outputs": []
  },
  {
   "cell_type": "code",
   "source": [
    "trainDF = stocksDF.where(\"rank <= .8\").drop(\"rank\")\n",
    "trainDF.show()"
   ],
   "metadata": {
    "colab": {
     "base_uri": "https://localhost:8080/"
    },
    "id": "PzdC-vJ8CVtz",
    "outputId": "f106c413-353e-4394-95cf-b3a575041ce4",
    "pycharm": {
     "name": "#%%\n"
    }
   },
   "id": "PzdC-vJ8CVtz",
   "execution_count": 88,
   "outputs": [
    {
     "output_type": "stream",
     "name": "stdout",
     "text": [
      "+----------+-----------------+-----------------+-----------------+-----------------+-------+-----------------+-----------------+\n",
      "|      Date|             High|              Low|             Open|            Close| Volume|         AdjClose|             Next|\n",
      "+----------+-----------------+-----------------+-----------------+-----------------+-------+-----------------+-----------------+\n",
      "|2017-01-03|789.6300048828125|775.7999877929688|778.8099975585938|786.1400146484375|1657300|786.1400146484375|791.3400268554688|\n",
      "|2017-01-04|791.3400268554688|783.1599731445312|788.3599853515625|786.9000244140625|1073000|786.9000244140625|  794.47998046875|\n",
      "|2017-01-05|  794.47998046875|  785.02001953125|786.0800170898438|  794.02001953125|1335200|  794.02001953125|807.9000244140625|\n",
      "|2017-01-06|807.9000244140625|792.2039794921875| 795.260009765625|806.1500244140625|1640200|806.1500244140625|809.9660034179688|\n",
      "|2017-01-09|809.9660034179688|802.8300170898438|806.4000244140625|806.6500244140625|1274600|806.6500244140625|809.1300048828125|\n",
      "|2017-01-10|809.1300048828125| 803.510009765625|807.8599853515625|804.7899780273438|1176800|804.7899780273438|808.1500244140625|\n",
      "|2017-01-11|808.1500244140625|801.3699951171875|            805.0|807.9099731445312|1065900|807.9099731445312|807.3900146484375|\n",
      "|2017-01-12|807.3900146484375|799.1699829101562|807.1400146484375|806.3599853515625|1353100|806.3599853515625|811.2239990234375|\n",
      "|2017-01-13|811.2239990234375|806.6900024414062|  807.47998046875|807.8800048828125|1099200|807.8800048828125|807.1400146484375|\n",
      "|2017-01-17|807.1400146484375|800.3699951171875|807.0800170898438|804.6099853515625|1362100|804.6099853515625|806.2050170898438|\n",
      "|2017-01-18|806.2050170898438| 800.989990234375|805.8099975585938|806.0700073242188|1294400|806.0700073242188|  809.47998046875|\n",
      "|2017-01-19|  809.47998046875|801.7999877929688|805.1199951171875|802.1749877929688| 919300|802.1749877929688|806.9099731445312|\n",
      "|2017-01-20|806.9099731445312|801.6900024414062|806.9099731445312|  805.02001953125|1670000|  805.02001953125|820.8699951171875|\n",
      "|2017-01-23|820.8699951171875| 803.739990234375|           807.25|819.3099975585938|1963600|819.3099975585938|825.9000244140625|\n",
      "|2017-01-24|825.9000244140625|817.8209838867188|822.2999877929688|823.8699951171875|1474000|823.8699951171875|  835.77001953125|\n",
      "|2017-01-25|  835.77001953125|825.0599975585938|829.6199951171875|835.6699829101562|1494500|835.6699829101562|            838.0|\n",
      "|2017-01-26|            838.0| 827.010009765625|837.8099975585938|832.1500244140625|2973900|832.1500244140625|841.9500122070312|\n",
      "|2017-01-27|841.9500122070312|820.4400024414062|834.7100219726562|823.3099975585938|2965800|823.3099975585938|815.8400268554688|\n",
      "|2017-01-30|815.8400268554688|799.7999877929688|814.6599731445312|802.3200073242188|3246600|802.3200073242188|           801.25|\n",
      "|2017-01-31|           801.25|  790.52001953125|796.8599853515625|796.7899780273438|2160600|796.7899780273438|801.1900024414062|\n",
      "+----------+-----------------+-----------------+-----------------+-----------------+-------+-----------------+-----------------+\n",
      "only showing top 20 rows\n",
      "\n"
     ]
    }
   ]
  },
  {
   "cell_type": "code",
   "source": [
    "testDF = stocksDF.where(\"rank > .8\").drop(\"rank\")\n",
    "testDF.show()"
   ],
   "metadata": {
    "colab": {
     "base_uri": "https://localhost:8080/"
    },
    "id": "g4j8W0K4CXnU",
    "outputId": "186ac7b8-7dd2-4fa8-d416-b5e0b0b7e134",
    "pycharm": {
     "name": "#%%\n"
    }
   },
   "id": "g4j8W0K4CXnU",
   "execution_count": 89,
   "outputs": [
    {
     "output_type": "stream",
     "name": "stdout",
     "text": [
      "+----------+------------------+------------------+------------------+------------------+-------+------------------+------------------+\n",
      "|      Date|              High|               Low|              Open|             Close| Volume|          AdjClose|              Next|\n",
      "+----------+------------------+------------------+------------------+------------------+-------+------------------+------------------+\n",
      "|2020-02-24| 1436.969970703125|1411.3900146484375|1426.1099853515625|1421.5899658203125|2867100|1421.5899658203125|1438.1400146484375|\n",
      "|2020-02-25|1438.1400146484375|1382.4000244140625|            1433.0| 1388.449951171875|2478300| 1388.449951171875| 1415.699951171875|\n",
      "|2020-02-26| 1415.699951171875|            1379.0|1396.1400146484375|1393.1800537109375|2202400|1393.1800537109375|1371.7039794921875|\n",
      "|2020-02-27|1371.7039794921875|1317.1700439453125|  1362.06005859375|1318.0899658203125|2978300|1318.0899658203125|1341.1400146484375|\n",
      "|2020-02-28|1341.1400146484375|            1271.0|            1277.5|1339.3299560546875|3790600|1339.3299560546875|1390.8699951171875|\n",
      "|2020-03-02|1390.8699951171875|  1326.81494140625|1351.6099853515625|1389.1099853515625|2431500|1389.1099853515625|1410.1500244140625|\n",
      "|2020-03-03|1410.1500244140625|            1332.0|1399.4200439453125|1341.3900146484375|2402300|1341.3900146484375|1388.0899658203125|\n",
      "|2020-03-04|1388.0899658203125|1343.1099853515625|  1359.22998046875|  1386.52001953125|1913300|  1386.52001953125|1358.9100341796875|\n",
      "|2020-03-05|1358.9100341796875|1305.0999755859375| 1350.199951171875|   1319.0400390625|2561300|   1319.0400390625| 1306.219970703125|\n",
      "|2020-03-06| 1306.219970703125| 1261.050048828125|  1277.06005859375|1298.4100341796875|2660600|1298.4100341796875| 1254.760009765625|\n",
      "|2020-03-09| 1254.760009765625|            1200.0| 1205.300048828125|  1215.56005859375|3365400|  1215.56005859375|1281.1500244140625|\n",
      "|2020-03-10|1281.1500244140625|  1218.77001953125|            1260.0|1280.3900146484375|2611400|1280.3900146484375|   1260.9599609375|\n",
      "|2020-03-11|   1260.9599609375|1196.0699462890625| 1249.699951171875|1215.4100341796875|2608500|1215.4100341796875|1193.8699951171875|\n",
      "|2020-03-12|1193.8699951171875| 1113.300048828125|            1126.0|1114.9100341796875|4226700|1114.9100341796875| 1219.760009765625|\n",
      "|2020-03-13| 1219.760009765625|1117.1429443359375|            1179.0|  1219.72998046875|3700100|  1219.72998046875|1152.2669677734375|\n",
      "|2020-03-16|1152.2669677734375|  1074.43994140625|            1096.0|1084.3299560546875|4252400|1084.3299560546875|1130.8599853515625|\n",
      "|2020-03-17|1130.8599853515625| 1056.010009765625|1093.1099853515625| 1119.800048828125|3861500| 1119.800048828125|            1106.5|\n",
      "|2020-03-18|            1106.5| 1037.280029296875| 1056.510009765625| 1096.800048828125|4233400| 1096.800048828125| 1157.969970703125|\n",
      "|2020-03-19| 1157.969970703125|1060.1080322265625| 1093.050048828125|   1115.2900390625|3651100|   1115.2900390625| 1143.989990234375|\n",
      "|2020-03-20| 1143.989990234375| 1065.489990234375| 1135.719970703125|1072.3199462890625|3601800|1072.3199462890625|1071.3199462890625|\n",
      "+----------+------------------+------------------+------------------+------------------+-------+------------------+------------------+\n",
      "only showing top 20 rows\n",
      "\n"
     ]
    }
   ]
  },
  {
   "cell_type": "markdown",
   "source": [
    "The input of any ML model from Spark is under the form of a vector containing `n` amount of features.\n",
    "The following cell creates the vector of features to feed into the model."
   ],
   "metadata": {
    "collapsed": false,
    "pycharm": {
     "name": "#%% md\n"
    }
   }
  },
  {
   "cell_type": "code",
   "source": [
    "from pyspark.ml.feature import VectorAssembler\n",
    "\n",
    "numericCols = []\n",
    "for (field, dataType) in trainDF.dtypes:\n",
    "    if (dataType == \"double\") & (field != \"Next\"):\n",
    "        numericCols.append(field)\n",
    "\n",
    "vecAssembler = VectorAssembler(inputCols=numericCols, outputCol=\"features\")"
   ],
   "metadata": {
    "id": "VJQyvIxTCZJy",
    "pycharm": {
     "name": "#%%\n"
    }
   },
   "id": "VJQyvIxTCZJy",
   "execution_count": 90,
   "outputs": []
  },
  {
   "cell_type": "markdown",
   "source": [
    "# Linear Regression\n",
    "* First and simplest Regressor that is a good reference point for other estimator"
   ],
   "metadata": {
    "id": "dbkhzLuqET31",
    "pycharm": {
     "name": "#%% md\n"
    }
   },
   "id": "dbkhzLuqET31"
  },
  {
   "cell_type": "code",
   "source": [
    "vecTrainDF = vecAssembler.transform(trainDF)"
   ],
   "metadata": {
    "id": "ZHwdpiL4EREn",
    "pycharm": {
     "name": "#%%\n"
    }
   },
   "id": "ZHwdpiL4EREn",
   "execution_count": 91,
   "outputs": []
  },
  {
   "cell_type": "code",
   "source": [
    "from pyspark.ml.regression import LinearRegression\n",
    "\n",
    "lr = LinearRegression(featuresCol=\"features\", labelCol=\"Next\", regParam=0.01)\n",
    "lrModel = lr.fit(vecTrainDF)"
   ],
   "metadata": {
    "id": "hfi_6UQUCbpv",
    "pycharm": {
     "name": "#%%\n"
    }
   },
   "id": "hfi_6UQUCbpv",
   "execution_count": 92,
   "outputs": []
  },
  {
   "cell_type": "markdown",
   "source": [
    "## Pipeline\n",
    "\n",
    "Pipeline is create to streamline the data transformation and predicting process"
   ],
   "metadata": {
    "id": "DODiw08NIJuD",
    "pycharm": {
     "name": "#%% md\n"
    }
   },
   "id": "DODiw08NIJuD"
  },
  {
   "cell_type": "code",
   "source": [
    "from pyspark.ml import Pipeline\n",
    "\n",
    "pipeline = Pipeline(stages=[vecAssembler, lr])\n",
    "pipelineModel = pipeline.fit(trainDF)"
   ],
   "metadata": {
    "id": "qs7ChOsECdgx",
    "pycharm": {
     "name": "#%%\n"
    }
   },
   "id": "qs7ChOsECdgx",
   "execution_count": 93,
   "outputs": []
  },
  {
   "cell_type": "markdown",
   "source": [
    "## Apply to test DF"
   ],
   "metadata": {
    "id": "qKsuD3vUIPad",
    "pycharm": {
     "name": "#%% md\n"
    }
   },
   "id": "qKsuD3vUIPad"
  },
  {
   "cell_type": "code",
   "source": [
    "predictionDF = pipelineModel.transform(testDF)\n",
    "\n",
    "predictionDF.select(\"features\", \"Next\", \"prediction\").show(10)"
   ],
   "metadata": {
    "colab": {
     "base_uri": "https://localhost:8080/"
    },
    "id": "xrJm-kYsCfcL",
    "outputId": "177f9460-f0ad-4d9e-d54c-a3ae2e6f012d",
    "pycharm": {
     "name": "#%%\n"
    }
   },
   "id": "xrJm-kYsCfcL",
   "execution_count": 94,
   "outputs": [
    {
     "output_type": "stream",
     "name": "stdout",
     "text": [
      "+--------------------+------------------+------------------+\n",
      "|            features|              Next|        prediction|\n",
      "+--------------------+------------------+------------------+\n",
      "|[1436.96997070312...|1438.1400146484375|1433.3858691797398|\n",
      "|[1438.14001464843...| 1415.699951171875|1408.5239465590419|\n",
      "|[1415.69995117187...|1371.7039794921875|  1408.25904452282|\n",
      "|[1371.70397949218...|1341.1400146484375|1339.6268740697183|\n",
      "|[1341.14001464843...|1390.8699951171875|1356.9669645018753|\n",
      "|[1390.86999511718...|1410.1500244140625|1403.0954723388015|\n",
      "|[1410.15002441406...|1388.0899658203125|1367.4898097392918|\n",
      "|[1388.08996582031...|1358.9100341796875|1398.3019850759447|\n",
      "|[1358.91003417968...| 1306.219970703125| 1337.199784601689|\n",
      "|[1306.21997070312...| 1254.760009765625|1311.6375892531723|\n",
      "+--------------------+------------------+------------------+\n",
      "only showing top 10 rows\n",
      "\n"
     ]
    }
   ]
  },
  {
   "cell_type": "markdown",
   "source": [
    "The model that gives the best result with the given dataset"
   ],
   "metadata": {
    "collapsed": false,
    "pycharm": {
     "name": "#%% md\n"
    }
   }
  },
  {
   "cell_type": "code",
   "source": [
    "from pyspark.ml.evaluation import RegressionEvaluator\n",
    "\n",
    "regEvaluator = RegressionEvaluator(labelCol=\"Next\", predictionCol=\"prediction\")\n",
    "rmse = regEvaluator.setMetricName(\"rmse\").evaluate(predictionDF)\n",
    "r2 = regEvaluator.setMetricName(\"r2\").evaluate(predictionDF)\n",
    "print(f\"RMSE is {rmse}\")\n",
    "print(f\"R2 is {r2}\")"
   ],
   "metadata": {
    "colab": {
     "base_uri": "https://localhost:8080/"
    },
    "id": "OFhTCz6pChOT",
    "outputId": "68823e51-19bb-41a0-9e9a-e1571ccaac02",
    "pycharm": {
     "name": "#%%\n"
    }
   },
   "id": "OFhTCz6pChOT",
   "execution_count": 95,
   "outputs": [
    {
     "output_type": "stream",
     "name": "stdout",
     "text": [
      "RMSE is 26.953545670982795\n",
      "R2 is 0.9754423733828439\n"
     ]
    }
   ]
  },
  {
   "cell_type": "markdown",
   "source": [
    "# LogScale"
   ],
   "metadata": {
    "id": "-UdYrlOIEW-c",
    "pycharm": {
     "name": "#%% md\n"
    }
   },
   "id": "-UdYrlOIEW-c"
  },
  {
   "cell_type": "code",
   "source": [
    "logTrainDF = trainDF.withColumn(\"log_next\", log(col(\"Next\")))\n",
    "logTestDF = testDF.withColumn(\"log_next\", log(col(\"Next\")))"
   ],
   "metadata": {
    "id": "vR75VXHCEgiY",
    "pycharm": {
     "name": "#%%\n"
    }
   },
   "id": "vR75VXHCEgiY",
   "execution_count": 96,
   "outputs": []
  },
  {
   "cell_type": "code",
   "source": [
    "lr = LinearRegression(labelCol=\"log_next\", predictionCol=\"log_pred\")\n",
    "pipeline = Pipeline(stages = [vecAssembler, lr])\n",
    "pipelineModel = pipeline.fit(logTrainDF)\n",
    "predictionDF = pipelineModel.transform(logTestDF)"
   ],
   "metadata": {
    "id": "nomDRR7JEYWv",
    "pycharm": {
     "name": "#%%\n"
    }
   },
   "id": "nomDRR7JEYWv",
   "execution_count": 97,
   "outputs": []
  },
  {
   "cell_type": "markdown",
   "source": [
    "## Apply to test DF\n",
    "\n",
    "* Log Scale seems to be having a hard time predicting because the fluctuation in price between days is so minute (small) that a small change in the log could lead to a throw off in the prediction"
   ],
   "metadata": {
    "id": "EevkF7StIWjm",
    "pycharm": {
     "name": "#%% md\n"
    }
   },
   "id": "EevkF7StIWjm"
  },
  {
   "cell_type": "code",
   "source": [
    "from pyspark.ml.evaluation import RegressionEvaluator\n",
    "from pyspark.sql.functions import col, exp\n",
    "\n",
    "expDF = predictionDF.withColumn(\"prediction\", exp(col(\"log_pred\")))\n",
    "\n",
    "regEvaluator = RegressionEvaluator(labelCol=\"Next\", predictionCol=\"prediction\")\n",
    "rmse = regEvaluator.setMetricName(\"rmse\").evaluate(expDF)\n",
    "r2 = regEvaluator.setMetricName(\"r2\").evaluate(expDF)\n",
    "print(f\"RMSE is {rmse}\")\n",
    "print(f\"R2 is {r2}\")"
   ],
   "metadata": {
    "colab": {
     "base_uri": "https://localhost:8080/"
    },
    "id": "Pty0a-cmEcIs",
    "outputId": "a169e83d-e28b-43de-dafd-e575c86ce4b4",
    "pycharm": {
     "name": "#%%\n"
    }
   },
   "id": "Pty0a-cmEcIs",
   "execution_count": 98,
   "outputs": [
    {
     "output_type": "stream",
     "name": "stdout",
     "text": [
      "RMSE is 107.45571599482726\n",
      "R2 is 0.6096864492272256\n"
     ]
    }
   ]
  },
  {
   "cell_type": "code",
   "source": [
    "expDF.select(\"features\", \"Next\",\"prediction\").show(10)"
   ],
   "metadata": {
    "colab": {
     "base_uri": "https://localhost:8080/"
    },
    "id": "UNth10TEEjXq",
    "outputId": "fce6b587-42ba-4b2c-d0cd-119823ebbfca",
    "pycharm": {
     "name": "#%%\n"
    }
   },
   "id": "UNth10TEEjXq",
   "execution_count": 99,
   "outputs": [
    {
     "output_type": "stream",
     "name": "stdout",
     "text": [
      "+--------------------+------------------+------------------+\n",
      "|            features|              Next|        prediction|\n",
      "+--------------------+------------------+------------------+\n",
      "|[1436.96997070312...|1438.1400146484375|1477.1218308939633|\n",
      "|[1438.14001464843...| 1415.699951171875|1460.0566315762965|\n",
      "|[1415.69995117187...|1371.7039794921875|1450.0198583333124|\n",
      "|[1371.70397949218...|1341.1400146484375|1371.7448274763638|\n",
      "|[1341.14001464843...|1390.8699951171875|1399.9846185911151|\n",
      "|[1390.86999511718...|1410.1500244140625|1455.2577405579018|\n",
      "|[1410.15002441406...|1388.0899658203125|1418.3932186939137|\n",
      "|[1388.08996582031...|1358.9100341796875|1439.6753633039857|\n",
      "|[1358.91003417968...| 1306.219970703125| 1367.325193292934|\n",
      "|[1306.21997070312...| 1254.760009765625|  1331.44913530293|\n",
      "+--------------------+------------------+------------------+\n",
      "only showing top 10 rows\n",
      "\n"
     ]
    }
   ]
  },
  {
   "cell_type": "markdown",
   "source": [
    "# Decision Tree"
   ],
   "metadata": {
    "id": "-IRTX2FjEnif",
    "pycharm": {
     "name": "#%% md\n"
    }
   },
   "id": "-IRTX2FjEnif"
  },
  {
   "cell_type": "code",
   "source": [
    "from pyspark.ml.regression import DecisionTreeRegressor\n",
    "\n",
    "decisionTree = DecisionTreeRegressor(labelCol=\"Next\")"
   ],
   "metadata": {
    "id": "nELbajs-Emy5",
    "pycharm": {
     "name": "#%%\n"
    }
   },
   "id": "nELbajs-Emy5",
   "execution_count": 100,
   "outputs": []
  },
  {
   "cell_type": "markdown",
   "source": [
    "## Pipeline"
   ],
   "metadata": {
    "id": "Tc5iazIlIhA3",
    "pycharm": {
     "name": "#%% md\n"
    }
   },
   "id": "Tc5iazIlIhA3"
  },
  {
   "cell_type": "code",
   "source": [
    "from pyspark.ml import Pipeline\n",
    "\n",
    "stages = [vecAssembler, decisionTree]\n",
    "pipeline = Pipeline(stages=stages)\n",
    "\n",
    "pipelineModel = pipeline.fit(trainDF)"
   ],
   "metadata": {
    "id": "cHTntWr3FQMH",
    "pycharm": {
     "name": "#%%\n"
    }
   },
   "id": "cHTntWr3FQMH",
   "execution_count": 101,
   "outputs": []
  },
  {
   "cell_type": "code",
   "source": [
    "pipelineModel = pipeline.fit(trainDF)"
   ],
   "metadata": {
    "id": "1vZ70SMnFRPR",
    "pycharm": {
     "name": "#%%\n"
    }
   },
   "id": "1vZ70SMnFRPR",
   "execution_count": 102,
   "outputs": []
  },
  {
   "cell_type": "markdown",
   "source": [
    "## Visualize the decision tree"
   ],
   "metadata": {
    "id": "O81Ew8wwIrY8",
    "pycharm": {
     "name": "#%% md\n"
    }
   },
   "id": "O81Ew8wwIrY8"
  },
  {
   "cell_type": "code",
   "source": [
    "dtModel = pipelineModel.stages[-1]\n",
    "print(dtModel.toDebugString)"
   ],
   "metadata": {
    "colab": {
     "base_uri": "https://localhost:8080/"
    },
    "id": "wOAg5lK3FTm2",
    "outputId": "7ba1258b-7289-4600-9a40-3f28c26dec3e",
    "pycharm": {
     "name": "#%%\n"
    }
   },
   "id": "wOAg5lK3FTm2",
   "execution_count": 103,
   "outputs": [
    {
     "output_type": "stream",
     "name": "stdout",
     "text": [
      "DecisionTreeRegressionModel: uid=DecisionTreeRegressor_e2bca7f4a85c, depth=5, numNodes=61, numFeatures=5\n",
      "  If (feature 3 <= 1080.9400024414062)\n",
      "   If (feature 3 <= 958.4499816894531)\n",
      "    If (feature 1 <= 845.6400146484375)\n",
      "     If (feature 3 <= 818.2799987792969)\n",
      "      If (feature 0 <= 821.2944946289062)\n",
      "       Predict: 807.487132196841\n",
      "      Else (feature 0 > 821.2944946289062)\n",
      "       Predict: 821.7799987792969\n",
      "     Else (feature 3 > 818.2799987792969)\n",
      "      If (feature 3 <= 830.5450134277344)\n",
      "       Predict: 829.1996663411459\n",
      "      Else (feature 3 > 830.5450134277344)\n",
      "       Predict: 841.1006005859375\n",
      "    Else (feature 1 > 845.6400146484375)\n",
      "     If (feature 3 <= 920.6299743652344)\n",
      "      If (feature 0 <= 852.125)\n",
      "       Predict: 853.4000244140625\n",
      "      Else (feature 0 > 852.125)\n",
      "       Predict: 912.344248453776\n",
      "     Else (feature 3 > 920.6299743652344)\n",
      "      If (feature 3 <= 941.010009765625)\n",
      "       Predict: 934.9957138372928\n",
      "      Else (feature 3 > 941.010009765625)\n",
      "       Predict: 956.027158203125\n",
      "   Else (feature 3 > 958.4499816894531)\n",
      "    If (feature 0 <= 1028.60400390625)\n",
      "     If (feature 0 <= 987.9249877929688)\n",
      "      If (feature 2 <= 957.4250183105469)\n",
      "       Predict: 970.6749877929688\n",
      "      Else (feature 2 > 957.4250183105469)\n",
      "       Predict: 983.9941711425781\n",
      "     Else (feature 0 > 987.9249877929688)\n",
      "      If (feature 3 <= 1016.5850219726562)\n",
      "       Predict: 1004.761463838465\n",
      "      Else (feature 3 > 1016.5850219726562)\n",
      "       Predict: 1029.771255493164\n",
      "    Else (feature 0 > 1028.60400390625)\n",
      "     If (feature 3 <= 1048.1749877929688)\n",
      "      If (feature 3 <= 1037.1950073242188)\n",
      "       Predict: 1040.7767134685905\n",
      "      Else (feature 3 > 1037.1950073242188)\n",
      "       Predict: 1056.831357421875\n",
      "     Else (feature 3 > 1048.1749877929688)\n",
      "      If (feature 3 <= 1061.6950073242188)\n",
      "       Predict: 1068.43775390625\n",
      "      Else (feature 3 > 1061.6950073242188)\n",
      "       Predict: 1082.3179209183672\n",
      "  Else (feature 3 > 1080.9400024414062)\n",
      "   If (feature 3 <= 1290.6849975585938)\n",
      "    If (feature 3 <= 1174.4049682617188)\n",
      "     If (feature 1 <= 1116.6625366210938)\n",
      "      If (feature 3 <= 1103.8349609375)\n",
      "       Predict: 1104.1226931202168\n",
      "      Else (feature 3 > 1103.8349609375)\n",
      "       Predict: 1126.233963946907\n",
      "     Else (feature 1 > 1116.6625366210938)\n",
      "      If (feature 0 <= 1163.3934936523438)\n",
      "       Predict: 1152.01666015625\n",
      "      Else (feature 0 > 1163.3934936523438)\n",
      "       Predict: 1174.9177495216836\n",
      "    Else (feature 3 > 1174.4049682617188)\n",
      "     If (feature 3 <= 1209.0050048828125)\n",
      "      If (feature 3 <= 1199.47998046875)\n",
      "       Predict: 1196.226694535236\n",
      "      Else (feature 3 > 1199.47998046875)\n",
      "       Predict: 1214.350478515625\n",
      "     Else (feature 3 > 1209.0050048828125)\n",
      "      If (feature 1 <= 1235.8650512695312)\n",
      "       Predict: 1237.4631596779336\n",
      "      Else (feature 1 > 1235.8650512695312)\n",
      "       Predict: 1266.067041015625\n",
      "   Else (feature 3 > 1290.6849975585938)\n",
      "    If (feature 0 <= 1441.5975341796875)\n",
      "     If (feature 1 <= 1335.030029296875)\n",
      "      If (feature 1 <= 1277.677490234375)\n",
      "       Predict: 1298.9300537109375\n",
      "      Else (feature 1 > 1277.677490234375)\n",
      "       Predict: 1322.2032114664714\n",
      "     Else (feature 1 > 1335.030029296875)\n",
      "      If (feature 3 <= 1436.7149658203125)\n",
      "       Predict: 1379.6908624822443\n",
      "      Else (feature 3 > 1436.7149658203125)\n",
      "       Predict: 1446.89501953125\n",
      "    Else (feature 0 > 1441.5975341796875)\n",
      "     If (feature 3 <= 1436.7149658203125)\n",
      "      Predict: 1465.697509765625\n",
      "     Else (feature 3 > 1436.7149658203125)\n",
      "      If (feature 1 <= 1427.3350219726562)\n",
      "       Predict: 1463.8399658203125\n",
      "      Else (feature 1 > 1427.3350219726562)\n",
      "       Predict: 1494.8149968927557\n",
      "\n"
     ]
    }
   ]
  },
  {
   "cell_type": "markdown",
   "source": [
    "## Feature & Importance"
   ],
   "metadata": {
    "id": "TNxTOc3qIz5a",
    "pycharm": {
     "name": "#%% md\n"
    }
   },
   "id": "TNxTOc3qIz5a"
  },
  {
   "cell_type": "code",
   "source": [
    "decisionTreeModel = pipelineModel.stages[-1]\n",
    "decisionTreeModel.featureImportances"
   ],
   "metadata": {
    "colab": {
     "base_uri": "https://localhost:8080/"
    },
    "id": "7Bv50Oq7FVTO",
    "outputId": "a9b7d5ef-f786-4a9b-93a8-c5e9ca454ca2",
    "pycharm": {
     "name": "#%%\n"
    }
   },
   "id": "7Bv50Oq7FVTO",
   "execution_count": 104,
   "outputs": [
    {
     "output_type": "execute_result",
     "data": {
      "text/plain": [
       "SparseVector(5, {0: 0.0265, 1: 0.0354, 2: 0.0, 3: 0.9381})"
      ]
     },
     "metadata": {},
     "execution_count": 104
    }
   ]
  },
  {
   "cell_type": "code",
   "source": [
    "import pandas as pd\n",
    "dtModel = pipelineModel.stages[-1]\n",
    "featureImp = pd.DataFrame(\n",
    "  list(zip(vecAssembler.getInputCols(), decisionTreeModel.featureImportances)),\n",
    "  columns=[\"feature\", \"importance\"])\n",
    "featureImp.sort_values(by=\"importance\", ascending=False)"
   ],
   "metadata": {
    "colab": {
     "base_uri": "https://localhost:8080/",
     "height": 206
    },
    "id": "wgLSkgUfFXUO",
    "outputId": "75d31720-6148-4c09-fa84-8fc9572f9bf3",
    "pycharm": {
     "name": "#%%\n"
    }
   },
   "id": "wgLSkgUfFXUO",
   "execution_count": 105,
   "outputs": [
    {
     "output_type": "execute_result",
     "data": {
      "text/plain": [
       "    feature  importance\n",
       "3     Close    0.938105\n",
       "1       Low    0.035369\n",
       "0      High    0.026484\n",
       "2      Open    0.000042\n",
       "4  AdjClose    0.000000"
      ],
      "text/html": [
       "\n",
       "  <div id=\"df-c3716e56-35ec-4504-9e4f-7b257ba40ebc\">\n",
       "    <div class=\"colab-df-container\">\n",
       "      <div>\n",
       "<style scoped>\n",
       "    .dataframe tbody tr th:only-of-type {\n",
       "        vertical-align: middle;\n",
       "    }\n",
       "\n",
       "    .dataframe tbody tr th {\n",
       "        vertical-align: top;\n",
       "    }\n",
       "\n",
       "    .dataframe thead th {\n",
       "        text-align: right;\n",
       "    }\n",
       "</style>\n",
       "<table border=\"1\" class=\"dataframe\">\n",
       "  <thead>\n",
       "    <tr style=\"text-align: right;\">\n",
       "      <th></th>\n",
       "      <th>feature</th>\n",
       "      <th>importance</th>\n",
       "    </tr>\n",
       "  </thead>\n",
       "  <tbody>\n",
       "    <tr>\n",
       "      <th>3</th>\n",
       "      <td>Close</td>\n",
       "      <td>0.938105</td>\n",
       "    </tr>\n",
       "    <tr>\n",
       "      <th>1</th>\n",
       "      <td>Low</td>\n",
       "      <td>0.035369</td>\n",
       "    </tr>\n",
       "    <tr>\n",
       "      <th>0</th>\n",
       "      <td>High</td>\n",
       "      <td>0.026484</td>\n",
       "    </tr>\n",
       "    <tr>\n",
       "      <th>2</th>\n",
       "      <td>Open</td>\n",
       "      <td>0.000042</td>\n",
       "    </tr>\n",
       "    <tr>\n",
       "      <th>4</th>\n",
       "      <td>AdjClose</td>\n",
       "      <td>0.000000</td>\n",
       "    </tr>\n",
       "  </tbody>\n",
       "</table>\n",
       "</div>\n",
       "      <button class=\"colab-df-convert\" onclick=\"convertToInteractive('df-c3716e56-35ec-4504-9e4f-7b257ba40ebc')\"\n",
       "              title=\"Convert this dataframe to an interactive table.\"\n",
       "              style=\"display:none;\">\n",
       "        \n",
       "  <svg xmlns=\"http://www.w3.org/2000/svg\" height=\"24px\"viewBox=\"0 0 24 24\"\n",
       "       width=\"24px\">\n",
       "    <path d=\"M0 0h24v24H0V0z\" fill=\"none\"/>\n",
       "    <path d=\"M18.56 5.44l.94 2.06.94-2.06 2.06-.94-2.06-.94-.94-2.06-.94 2.06-2.06.94zm-11 1L8.5 8.5l.94-2.06 2.06-.94-2.06-.94L8.5 2.5l-.94 2.06-2.06.94zm10 10l.94 2.06.94-2.06 2.06-.94-2.06-.94-.94-2.06-.94 2.06-2.06.94z\"/><path d=\"M17.41 7.96l-1.37-1.37c-.4-.4-.92-.59-1.43-.59-.52 0-1.04.2-1.43.59L10.3 9.45l-7.72 7.72c-.78.78-.78 2.05 0 2.83L4 21.41c.39.39.9.59 1.41.59.51 0 1.02-.2 1.41-.59l7.78-7.78 2.81-2.81c.8-.78.8-2.07 0-2.86zM5.41 20L4 18.59l7.72-7.72 1.47 1.35L5.41 20z\"/>\n",
       "  </svg>\n",
       "      </button>\n",
       "      \n",
       "  <style>\n",
       "    .colab-df-container {\n",
       "      display:flex;\n",
       "      flex-wrap:wrap;\n",
       "      gap: 12px;\n",
       "    }\n",
       "\n",
       "    .colab-df-convert {\n",
       "      background-color: #E8F0FE;\n",
       "      border: none;\n",
       "      border-radius: 50%;\n",
       "      cursor: pointer;\n",
       "      display: none;\n",
       "      fill: #1967D2;\n",
       "      height: 32px;\n",
       "      padding: 0 0 0 0;\n",
       "      width: 32px;\n",
       "    }\n",
       "\n",
       "    .colab-df-convert:hover {\n",
       "      background-color: #E2EBFA;\n",
       "      box-shadow: 0px 1px 2px rgba(60, 64, 67, 0.3), 0px 1px 3px 1px rgba(60, 64, 67, 0.15);\n",
       "      fill: #174EA6;\n",
       "    }\n",
       "\n",
       "    [theme=dark] .colab-df-convert {\n",
       "      background-color: #3B4455;\n",
       "      fill: #D2E3FC;\n",
       "    }\n",
       "\n",
       "    [theme=dark] .colab-df-convert:hover {\n",
       "      background-color: #434B5C;\n",
       "      box-shadow: 0px 1px 3px 1px rgba(0, 0, 0, 0.15);\n",
       "      filter: drop-shadow(0px 1px 2px rgba(0, 0, 0, 0.3));\n",
       "      fill: #FFFFFF;\n",
       "    }\n",
       "  </style>\n",
       "\n",
       "      <script>\n",
       "        const buttonEl =\n",
       "          document.querySelector('#df-c3716e56-35ec-4504-9e4f-7b257ba40ebc button.colab-df-convert');\n",
       "        buttonEl.style.display =\n",
       "          google.colab.kernel.accessAllowed ? 'block' : 'none';\n",
       "\n",
       "        async function convertToInteractive(key) {\n",
       "          const element = document.querySelector('#df-c3716e56-35ec-4504-9e4f-7b257ba40ebc');\n",
       "          const dataTable =\n",
       "            await google.colab.kernel.invokeFunction('convertToInteractive',\n",
       "                                                     [key], {});\n",
       "          if (!dataTable) return;\n",
       "\n",
       "          const docLinkHtml = 'Like what you see? Visit the ' +\n",
       "            '<a target=\"_blank\" href=https://colab.research.google.com/notebooks/data_table.ipynb>data table notebook</a>'\n",
       "            + ' to learn more about interactive tables.';\n",
       "          element.innerHTML = '';\n",
       "          dataTable['output_type'] = 'display_data';\n",
       "          await google.colab.output.renderOutput(dataTable, element);\n",
       "          const docLink = document.createElement('div');\n",
       "          docLink.innerHTML = docLinkHtml;\n",
       "          element.appendChild(docLink);\n",
       "        }\n",
       "      </script>\n",
       "    </div>\n",
       "  </div>\n",
       "  "
      ]
     },
     "metadata": {},
     "execution_count": 105
    }
   ]
  },
  {
   "cell_type": "markdown",
   "source": [
    "## Apply to test DF"
   ],
   "metadata": {
    "id": "RSy3EQSkI3YF",
    "pycharm": {
     "name": "#%% md\n"
    }
   },
   "id": "RSy3EQSkI3YF"
  },
  {
   "cell_type": "code",
   "source": [
    "predictionDF = pipelineModel.transform(testDF)\n",
    "\n",
    "predictionDF.select(\"features\", \"Next\", \"prediction\").show()"
   ],
   "metadata": {
    "colab": {
     "base_uri": "https://localhost:8080/"
    },
    "id": "s9EG6dMyFZDd",
    "outputId": "0f909cb9-3f3e-4b35-bb0e-18bb5d92754b",
    "pycharm": {
     "name": "#%%\n"
    }
   },
   "id": "s9EG6dMyFZDd",
   "execution_count": 106,
   "outputs": [
    {
     "output_type": "stream",
     "name": "stdout",
     "text": [
      "+--------------------+------------------+------------------+\n",
      "|            features|              Next|        prediction|\n",
      "+--------------------+------------------+------------------+\n",
      "|[1436.96997070312...|1438.1400146484375|1379.6908624822443|\n",
      "|[1438.14001464843...| 1415.699951171875|1379.6908624822443|\n",
      "|[1415.69995117187...|1371.7039794921875|1379.6908624822443|\n",
      "|[1371.70397949218...|1341.1400146484375|1322.2032114664714|\n",
      "|[1341.14001464843...|1390.8699951171875|1298.9300537109375|\n",
      "|[1390.86999511718...|1410.1500244140625|1322.2032114664714|\n",
      "|[1410.15002441406...|1388.0899658203125|1322.2032114664714|\n",
      "|[1388.08996582031...|1358.9100341796875|1379.6908624822443|\n",
      "|[1358.91003417968...| 1306.219970703125|1322.2032114664714|\n",
      "|[1306.21997070312...| 1254.760009765625|1298.9300537109375|\n",
      "|[1254.76000976562...|1281.1500244140625|1237.4631596779336|\n",
      "|[1281.15002441406...|   1260.9599609375|1237.4631596779336|\n",
      "|[1260.9599609375,...|1193.8699951171875|1237.4631596779336|\n",
      "|[1193.86999511718...| 1219.760009765625| 1126.233963946907|\n",
      "|[1219.76000976562...|1152.2669677734375|1237.4631596779336|\n",
      "|[1152.26696777343...|1130.8599853515625|1104.1226931202168|\n",
      "|[1130.85998535156...|            1106.5| 1126.233963946907|\n",
      "|[1106.5,1037.2800...| 1157.969970703125|1104.1226931202168|\n",
      "|[1157.96997070312...| 1143.989990234375| 1126.233963946907|\n",
      "|[1143.98999023437...|1071.3199462890625|1082.3179209183672|\n",
      "+--------------------+------------------+------------------+\n",
      "only showing top 20 rows\n",
      "\n"
     ]
    }
   ]
  },
  {
   "cell_type": "code",
   "source": [
    "from pyspark.ml.evaluation import RegressionEvaluator\n",
    "\n",
    "regEvaluator = RegressionEvaluator(predictionCol=\"prediction\",\n",
    "                                          labelCol=\"Next\", \n",
    "                                          metricName=\"rmse\")\n",
    "\n",
    "rmse = regEvaluator.evaluate(predictionDF)\n",
    "r2 = regEvaluator.setMetricName(\"r2\").evaluate(predictionDF)\n",
    "print(f\"RMSE is {rmse}\")\n",
    "print(f\"R2 is {r2}\")"
   ],
   "metadata": {
    "colab": {
     "base_uri": "https://localhost:8080/"
    },
    "id": "ujf_PLZgFceA",
    "outputId": "3c85f009-6b3f-4cac-ed5b-f6b88572c023",
    "pycharm": {
     "name": "#%%\n"
    }
   },
   "id": "ujf_PLZgFceA",
   "execution_count": 107,
   "outputs": [
    {
     "output_type": "stream",
     "name": "stdout",
     "text": [
      "RMSE is 112.42707182860805\n",
      "R2 is 0.5727359194946977\n"
     ]
    }
   ]
  },
  {
   "cell_type": "markdown",
   "source": [
    "# HyperparameterTuning\n",
    "* Here is the last step of any given ML model, to optimize the performance of a model.\n",
    "* However, this would work best given the dataset is small in which case `GOOGLE.csv` is small enough\n",
    "* Essentially, the process would create numerous model with a variation of the input grid parameters to find and score the best one and return the set of parameters that give the best result.\n",
    "## RandomForest"
   ],
   "metadata": {
    "id": "_PExdyf7FfLe",
    "pycharm": {
     "name": "#%% md\n"
    }
   },
   "id": "_PExdyf7FfLe"
  },
  {
   "cell_type": "code",
   "source": [
    "from pyspark.ml.regression import RandomForestRegressor\n",
    "from pyspark.ml import Pipeline\n",
    "\n",
    "rf = RandomForestRegressor(labelCol=\"Next\", seed=42)\n",
    "pipeline = Pipeline(stages = [vecAssembler, rf])"
   ],
   "metadata": {
    "id": "SdCah-WWFhzk",
    "pycharm": {
     "name": "#%%\n"
    }
   },
   "id": "SdCah-WWFhzk",
   "execution_count": 108,
   "outputs": []
  },
  {
   "cell_type": "markdown",
   "source": [
    "## Grid Search"
   ],
   "metadata": {
    "id": "_fX75AJEJXvJ",
    "pycharm": {
     "name": "#%% md\n"
    }
   },
   "id": "_fX75AJEJXvJ"
  },
  {
   "cell_type": "code",
   "source": [
    "from pyspark.ml.tuning import ParamGridBuilder\n",
    "\n",
    "paramGrid = (ParamGridBuilder()\n",
    "            .addGrid(rf.maxDepth, [2, 4, 6])\n",
    "            .addGrid(rf.numTrees, [10, 100])\n",
    "            .build())"
   ],
   "metadata": {
    "id": "iJ_OJ1b_FnCV",
    "pycharm": {
     "name": "#%%\n"
    }
   },
   "id": "iJ_OJ1b_FnCV",
   "execution_count": 109,
   "outputs": []
  },
  {
   "cell_type": "markdown",
   "source": [
    "## Cross Validation"
   ],
   "metadata": {
    "id": "w1eHeo7aJbcc",
    "pycharm": {
     "name": "#%% md\n"
    }
   },
   "id": "w1eHeo7aJbcc"
  },
  {
   "cell_type": "code",
   "source": [
    "from pyspark.ml.evaluation import RegressionEvaluator\n",
    "from pyspark.ml.tuning import CrossValidator\n",
    "\n",
    "regEvaluator = RegressionEvaluator(labelCol=\"Next\",\n",
    "                                predictionCol=\"prediction\", \n",
    "                                metricName=\"rmse\")\n",
    "\n",
    "cv = CrossValidator(estimator=pipeline, \n",
    "                    evaluator=regEvaluator,\n",
    "                    estimatorParamMaps=paramGrid, \n",
    "                    numFolds=3, \n",
    "                    seed=42)"
   ],
   "metadata": {
    "id": "Pp2hytfcFnnu",
    "pycharm": {
     "name": "#%%\n"
    }
   },
   "id": "Pp2hytfcFnnu",
   "execution_count": 110,
   "outputs": []
  },
  {
   "cell_type": "code",
   "source": [
    "cvModel = cv.setParallelism(4).fit(trainDF)\n",
    "cv = CrossValidator(estimator=rf, \n",
    "                    evaluator=regEvaluator,\n",
    "                    estimatorParamMaps=paramGrid, \n",
    "                    numFolds=3, \n",
    "                    parallelism=4, \n",
    "                    seed=42)\n",
    "\n",
    "pipeline = Pipeline(stages=[vecAssembler, cv])\n",
    "\n",
    "pipelineModel = pipeline.fit(trainDF)"
   ],
   "metadata": {
    "id": "Hyk93S8mFpfb",
    "pycharm": {
     "name": "#%%\n"
    }
   },
   "id": "Hyk93S8mFpfb",
   "execution_count": 111,
   "outputs": []
  },
  {
   "cell_type": "code",
   "source": [
    "list(zip(cvModel.getEstimatorParamMaps(), cvModel.avgMetrics))"
   ],
   "metadata": {
    "colab": {
     "base_uri": "https://localhost:8080/"
    },
    "id": "d-JLO7gSFtPy",
    "outputId": "45586dd7-e571-4577-b3c5-a2827e1a29a9",
    "pycharm": {
     "name": "#%%\n"
    }
   },
   "id": "d-JLO7gSFtPy",
   "execution_count": 112,
   "outputs": [
    {
     "output_type": "execute_result",
     "data": {
      "text/plain": [
       "[({Param(parent='RandomForestRegressor_0dea8746b805', name='maxDepth', doc='Maximum depth of the tree. (>= 0) E.g., depth 0 means 1 leaf node; depth 1 means 1 internal node + 2 leaf nodes. Must be in range [0, 30].'): 2,\n",
       "   Param(parent='RandomForestRegressor_0dea8746b805', name='numTrees', doc='Number of trees to train (>= 1).'): 10},\n",
       "  47.33141238232539),\n",
       " ({Param(parent='RandomForestRegressor_0dea8746b805', name='maxDepth', doc='Maximum depth of the tree. (>= 0) E.g., depth 0 means 1 leaf node; depth 1 means 1 internal node + 2 leaf nodes. Must be in range [0, 30].'): 2,\n",
       "   Param(parent='RandomForestRegressor_0dea8746b805', name='numTrees', doc='Number of trees to train (>= 1).'): 100},\n",
       "  43.28900249925332),\n",
       " ({Param(parent='RandomForestRegressor_0dea8746b805', name='maxDepth', doc='Maximum depth of the tree. (>= 0) E.g., depth 0 means 1 leaf node; depth 1 means 1 internal node + 2 leaf nodes. Must be in range [0, 30].'): 4,\n",
       "   Param(parent='RandomForestRegressor_0dea8746b805', name='numTrees', doc='Number of trees to train (>= 1).'): 10},\n",
       "  18.35760208642346),\n",
       " ({Param(parent='RandomForestRegressor_0dea8746b805', name='maxDepth', doc='Maximum depth of the tree. (>= 0) E.g., depth 0 means 1 leaf node; depth 1 means 1 internal node + 2 leaf nodes. Must be in range [0, 30].'): 4,\n",
       "   Param(parent='RandomForestRegressor_0dea8746b805', name='numTrees', doc='Number of trees to train (>= 1).'): 100},\n",
       "  17.439944774607824),\n",
       " ({Param(parent='RandomForestRegressor_0dea8746b805', name='maxDepth', doc='Maximum depth of the tree. (>= 0) E.g., depth 0 means 1 leaf node; depth 1 means 1 internal node + 2 leaf nodes. Must be in range [0, 30].'): 6,\n",
       "   Param(parent='RandomForestRegressor_0dea8746b805', name='numTrees', doc='Number of trees to train (>= 1).'): 10},\n",
       "  16.840690007915516),\n",
       " ({Param(parent='RandomForestRegressor_0dea8746b805', name='maxDepth', doc='Maximum depth of the tree. (>= 0) E.g., depth 0 means 1 leaf node; depth 1 means 1 internal node + 2 leaf nodes. Must be in range [0, 30].'): 6,\n",
       "   Param(parent='RandomForestRegressor_0dea8746b805', name='numTrees', doc='Number of trees to train (>= 1).'): 100},\n",
       "  16.62036628664865)]"
      ]
     },
     "metadata": {},
     "execution_count": 112
    }
   ]
  },
  {
   "cell_type": "markdown",
   "source": [
    "## Apply to the test DF"
   ],
   "metadata": {
    "id": "S5t2efgdJgVw",
    "pycharm": {
     "name": "#%% md\n"
    }
   },
   "id": "S5t2efgdJgVw"
  },
  {
   "cell_type": "code",
   "source": [
    "predictionDF = pipelineModel.transform(testDF)\n",
    "\n",
    "regEvaluator = RegressionEvaluator(predictionCol=\"prediction\", labelCol=\"Next\", metricName=\"rmse\")\n",
    "\n",
    "rmse = regEvaluator.evaluate(predictionDF)\n",
    "r2 = regEvaluator.setMetricName(\"r2\").evaluate(predictionDF)\n",
    "print(f\"RMSE is {rmse}\")\n",
    "print(f\"R2 is {r2}\")"
   ],
   "metadata": {
    "colab": {
     "base_uri": "https://localhost:8080/"
    },
    "id": "rKvL8PhfFvH5",
    "outputId": "8c947a16-633b-4b68-c9cc-2c97eef6b02c",
    "pycharm": {
     "name": "#%%\n"
    }
   },
   "id": "rKvL8PhfFvH5",
   "execution_count": 113,
   "outputs": [
    {
     "output_type": "stream",
     "name": "stdout",
     "text": [
      "RMSE is 112.47297881106735\n",
      "R2 is 0.5723869215376514\n"
     ]
    }
   ]
  },
  {
   "cell_type": "code",
   "source": [
    "predictionDF = pipelineModel.transform(testDF)\n",
    "\n",
    "predictionDF.select(\"features\", \"Next\", \"prediction\").show(10)"
   ],
   "metadata": {
    "colab": {
     "base_uri": "https://localhost:8080/"
    },
    "id": "z8Aqp4yhFw6b",
    "outputId": "73bd5215-a240-4f7d-a7f9-00530821d904",
    "pycharm": {
     "name": "#%%\n"
    }
   },
   "id": "z8Aqp4yhFw6b",
   "execution_count": 114,
   "outputs": [
    {
     "output_type": "stream",
     "name": "stdout",
     "text": [
      "+--------------------+------------------+------------------+\n",
      "|            features|              Next|        prediction|\n",
      "+--------------------+------------------+------------------+\n",
      "|[1436.96997070312...|1438.1400146484375|1381.1177120022178|\n",
      "|[1438.14001464843...| 1415.699951171875|1381.1177120022178|\n",
      "|[1415.69995117187...|1371.7039794921875|1381.1177120022178|\n",
      "|[1371.70397949218...|1341.1400146484375| 1343.178724487436|\n",
      "|[1341.14001464843...|1390.8699951171875|1297.3409612065316|\n",
      "|[1390.86999511718...|1410.1500244140625|1373.8490518417661|\n",
      "|[1410.15002441406...|1388.0899658203125| 1343.178724487436|\n",
      "|[1388.08996582031...|1358.9100341796875|1381.1177120022178|\n",
      "|[1358.91003417968...| 1306.219970703125| 1343.178724487436|\n",
      "|[1306.21997070312...| 1254.760009765625|1297.3409612065316|\n",
      "+--------------------+------------------+------------------+\n",
      "only showing top 10 rows\n",
      "\n"
     ]
    }
   ]
  }
 ],
 "metadata": {
  "kernelspec": {
   "display_name": "Python 3 (ipykernel)",
   "language": "python",
   "name": "python3"
  },
  "language_info": {
   "codemirror_mode": {
    "name": "ipython",
    "version": 3
   },
   "file_extension": ".py",
   "mimetype": "text/x-python",
   "name": "python",
   "nbconvert_exporter": "python",
   "pygments_lexer": "ipython3",
   "version": "3.10.4"
  },
  "colab": {
   "name": "1Data_Cleansing.ipynb",
   "provenance": []
  }
 },
 "nbformat": 4,
 "nbformat_minor": 5
}