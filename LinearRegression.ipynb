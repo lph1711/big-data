{
  "cells": [
    {
      "cell_type": "code",
      "execution_count": 41,
      "id": "9841e9d3-d42a-4494-997b-1fdcfddaffb6",
      "metadata": {
        "pycharm": {
          "name": "#%%\n"
        },
        "colab": {
          "base_uri": "https://localhost:8080/"
        },
        "id": "9841e9d3-d42a-4494-997b-1fdcfddaffb6",
        "outputId": "2970ecc0-5ac1-4f38-8d7e-d02634a3ffbc"
      },
      "outputs": [
        {
          "output_type": "stream",
          "name": "stdout",
          "text": [
            "Looking in indexes: https://pypi.org/simple, https://us-python.pkg.dev/colab-wheels/public/simple/\n",
            "Requirement already satisfied: pyspark in /usr/local/lib/python3.7/dist-packages (3.3.0)\n",
            "Requirement already satisfied: py4j==0.10.9.5 in /usr/local/lib/python3.7/dist-packages (from pyspark) (0.10.9.5)\n"
          ]
        }
      ],
      "source": [
        "!pip install pyspark"
      ]
    },
    {
      "cell_type": "code",
      "execution_count": 42,
      "id": "636c5cfc-5aab-48de-ab9d-d38130d60659",
      "metadata": {
        "pycharm": {
          "name": "#%%\n"
        },
        "id": "636c5cfc-5aab-48de-ab9d-d38130d60659"
      },
      "outputs": [],
      "source": [
        "from pyspark.sql import SparkSession"
      ]
    },
    {
      "cell_type": "code",
      "execution_count": 43,
      "id": "37288e57-e800-4b60-b4e8-6663819bd935",
      "metadata": {
        "pycharm": {
          "name": "#%%\n"
        },
        "id": "37288e57-e800-4b60-b4e8-6663819bd935"
      },
      "outputs": [],
      "source": [
        "spark_application_name = \"Spark_Application_Name\""
      ]
    },
    {
      "cell_type": "code",
      "execution_count": 44,
      "id": "e8961360-38b2-469c-adaa-947a7e873c0c",
      "metadata": {
        "pycharm": {
          "name": "#%%\n"
        },
        "id": "e8961360-38b2-469c-adaa-947a7e873c0c"
      },
      "outputs": [],
      "source": [
        "spark = (SparkSession.builder.appName(spark_application_name).getOrCreate())"
      ]
    },
    {
      "cell_type": "code",
      "execution_count": 45,
      "id": "7a5a9061-fc5e-4894-92d0-010be93d22ab",
      "metadata": {
        "pycharm": {
          "name": "#%%\n"
        },
        "colab": {
          "base_uri": "https://localhost:8080/",
          "height": 34
        },
        "id": "7a5a9061-fc5e-4894-92d0-010be93d22ab",
        "outputId": "9f09f20f-1e81-445c-fca9-8cc63a71f322"
      },
      "outputs": [
        {
          "output_type": "display_data",
          "data": {
            "text/plain": [
              "DataFrame[Date: date, High: double, Low: double, Open: double, Close: double, Volume: int, AdjClose: double, company_name: string, Next: double]"
            ]
          },
          "metadata": {}
        }
      ],
      "source": [
        "filePath = \"stocks-final.parquet\"\n",
        "stocksDF = spark.read.parquet(filePath)\n",
        "display(stocksDF)"
      ]
    },
    {
      "cell_type": "markdown",
      "id": "92ca89e1-f3cf-42c4-a3e3-b08cc50d4663",
      "metadata": {
        "pycharm": {
          "name": "#%% md\n"
        },
        "id": "92ca89e1-f3cf-42c4-a3e3-b08cc50d4663"
      },
      "source": [
        "## Train/Test Split"
      ]
    },
    {
      "cell_type": "code",
      "execution_count": 46,
      "id": "a9a060e9-0828-403b-97bd-df79cafb98b6",
      "metadata": {
        "pycharm": {
          "name": "#%%\n"
        },
        "id": "a9a060e9-0828-403b-97bd-df79cafb98b6"
      },
      "outputs": [],
      "source": [
        "from pyspark.sql.functions import percent_rank\n",
        "from pyspark.sql import Window\n",
        "\n",
        "stocksDF = stocksDF.withColumn(\"rank\", percent_rank().over(Window.partitionBy().orderBy(\"Date\")))"
      ]
    },
    {
      "cell_type": "code",
      "execution_count": 47,
      "id": "3e58d4bb-775e-40a6-8872-18d278baab5a",
      "metadata": {
        "pycharm": {
          "name": "#%%\n"
        },
        "colab": {
          "base_uri": "https://localhost:8080/"
        },
        "id": "3e58d4bb-775e-40a6-8872-18d278baab5a",
        "outputId": "0797f60b-036b-4d8c-b546-11adf805087f"
      },
      "outputs": [
        {
          "output_type": "stream",
          "name": "stdout",
          "text": [
            "+----------+-----------------+-----------------+-----------------+-----------------+-------+-----------------+------------+-----------------+\n",
            "|      Date|             High|              Low|             Open|            Close| Volume|         AdjClose|company_name|             Next|\n",
            "+----------+-----------------+-----------------+-----------------+-----------------+-------+-----------------+------------+-----------------+\n",
            "|2017-01-03|789.6300048828125|775.7999877929688|778.8099975585938|786.1400146484375|1657300|786.1400146484375|      GOOGLE|791.3400268554688|\n",
            "|2017-01-04|791.3400268554688|783.1599731445312|788.3599853515625|786.9000244140625|1073000|786.9000244140625|      GOOGLE|  794.47998046875|\n",
            "|2017-01-05|  794.47998046875|  785.02001953125|786.0800170898438|  794.02001953125|1335200|  794.02001953125|      GOOGLE|807.9000244140625|\n",
            "|2017-01-06|807.9000244140625|792.2039794921875| 795.260009765625|806.1500244140625|1640200|806.1500244140625|      GOOGLE|809.9660034179688|\n",
            "|2017-01-09|809.9660034179688|802.8300170898438|806.4000244140625|806.6500244140625|1274600|806.6500244140625|      GOOGLE|809.1300048828125|\n",
            "|2017-01-10|809.1300048828125| 803.510009765625|807.8599853515625|804.7899780273438|1176800|804.7899780273438|      GOOGLE|808.1500244140625|\n",
            "|2017-01-11|808.1500244140625|801.3699951171875|            805.0|807.9099731445312|1065900|807.9099731445312|      GOOGLE|807.3900146484375|\n",
            "|2017-01-12|807.3900146484375|799.1699829101562|807.1400146484375|806.3599853515625|1353100|806.3599853515625|      GOOGLE|811.2239990234375|\n",
            "|2017-01-13|811.2239990234375|806.6900024414062|  807.47998046875|807.8800048828125|1099200|807.8800048828125|      GOOGLE|807.1400146484375|\n",
            "|2017-01-17|807.1400146484375|800.3699951171875|807.0800170898438|804.6099853515625|1362100|804.6099853515625|      GOOGLE|806.2050170898438|\n",
            "|2017-01-18|806.2050170898438| 800.989990234375|805.8099975585938|806.0700073242188|1294400|806.0700073242188|      GOOGLE|  809.47998046875|\n",
            "|2017-01-19|  809.47998046875|801.7999877929688|805.1199951171875|802.1749877929688| 919300|802.1749877929688|      GOOGLE|806.9099731445312|\n",
            "|2017-01-20|806.9099731445312|801.6900024414062|806.9099731445312|  805.02001953125|1670000|  805.02001953125|      GOOGLE|820.8699951171875|\n",
            "|2017-01-23|820.8699951171875| 803.739990234375|           807.25|819.3099975585938|1963600|819.3099975585938|      GOOGLE|825.9000244140625|\n",
            "|2017-01-24|825.9000244140625|817.8209838867188|822.2999877929688|823.8699951171875|1474000|823.8699951171875|      GOOGLE|  835.77001953125|\n",
            "|2017-01-25|  835.77001953125|825.0599975585938|829.6199951171875|835.6699829101562|1494500|835.6699829101562|      GOOGLE|            838.0|\n",
            "|2017-01-26|            838.0| 827.010009765625|837.8099975585938|832.1500244140625|2973900|832.1500244140625|      GOOGLE|841.9500122070312|\n",
            "|2017-01-27|841.9500122070312|820.4400024414062|834.7100219726562|823.3099975585938|2965800|823.3099975585938|      GOOGLE|815.8400268554688|\n",
            "|2017-01-30|815.8400268554688|799.7999877929688|814.6599731445312|802.3200073242188|3246600|802.3200073242188|      GOOGLE|           801.25|\n",
            "|2017-01-31|           801.25|  790.52001953125|796.8599853515625|796.7899780273438|2160600|796.7899780273438|      GOOGLE|801.1900024414062|\n",
            "+----------+-----------------+-----------------+-----------------+-----------------+-------+-----------------+------------+-----------------+\n",
            "only showing top 20 rows\n",
            "\n"
          ]
        }
      ],
      "source": [
        "trainDF = stocksDF.where(\"rank <= .8\").drop(\"rank\")\n",
        "trainDF.show()"
      ]
    },
    {
      "cell_type": "code",
      "execution_count": 48,
      "id": "a97f3b18-ed7d-4964-9953-0e7e79ca5037",
      "metadata": {
        "pycharm": {
          "name": "#%%\n"
        },
        "colab": {
          "base_uri": "https://localhost:8080/"
        },
        "id": "a97f3b18-ed7d-4964-9953-0e7e79ca5037",
        "outputId": "6761e0de-94e6-40e7-add8-68606df41860"
      },
      "outputs": [
        {
          "output_type": "stream",
          "name": "stdout",
          "text": [
            "+----------+------------------+------------------+------------------+------------------+-------+------------------+------------+------------------+\n",
            "|      Date|              High|               Low|              Open|             Close| Volume|          AdjClose|company_name|              Next|\n",
            "+----------+------------------+------------------+------------------+------------------+-------+------------------+------------+------------------+\n",
            "|2020-02-24| 1436.969970703125|1411.3900146484375|1426.1099853515625|1421.5899658203125|2867100|1421.5899658203125|      GOOGLE|1438.1400146484375|\n",
            "|2020-02-25|1438.1400146484375|1382.4000244140625|            1433.0| 1388.449951171875|2478300| 1388.449951171875|      GOOGLE| 1415.699951171875|\n",
            "|2020-02-26| 1415.699951171875|            1379.0|1396.1400146484375|1393.1800537109375|2202400|1393.1800537109375|      GOOGLE|1371.7039794921875|\n",
            "|2020-02-27|1371.7039794921875|1317.1700439453125|  1362.06005859375|1318.0899658203125|2978300|1318.0899658203125|      GOOGLE|1341.1400146484375|\n",
            "|2020-02-28|1341.1400146484375|            1271.0|            1277.5|1339.3299560546875|3790600|1339.3299560546875|      GOOGLE|1390.8699951171875|\n",
            "|2020-03-02|1390.8699951171875|  1326.81494140625|1351.6099853515625|1389.1099853515625|2431500|1389.1099853515625|      GOOGLE|1410.1500244140625|\n",
            "|2020-03-03|1410.1500244140625|            1332.0|1399.4200439453125|1341.3900146484375|2402300|1341.3900146484375|      GOOGLE|1388.0899658203125|\n",
            "|2020-03-04|1388.0899658203125|1343.1099853515625|  1359.22998046875|  1386.52001953125|1913300|  1386.52001953125|      GOOGLE|1358.9100341796875|\n",
            "|2020-03-05|1358.9100341796875|1305.0999755859375| 1350.199951171875|   1319.0400390625|2561300|   1319.0400390625|      GOOGLE| 1306.219970703125|\n",
            "|2020-03-06| 1306.219970703125| 1261.050048828125|  1277.06005859375|1298.4100341796875|2660600|1298.4100341796875|      GOOGLE| 1254.760009765625|\n",
            "|2020-03-09| 1254.760009765625|            1200.0| 1205.300048828125|  1215.56005859375|3365400|  1215.56005859375|      GOOGLE|1281.1500244140625|\n",
            "|2020-03-10|1281.1500244140625|  1218.77001953125|            1260.0|1280.3900146484375|2611400|1280.3900146484375|      GOOGLE|   1260.9599609375|\n",
            "|2020-03-11|   1260.9599609375|1196.0699462890625| 1249.699951171875|1215.4100341796875|2608500|1215.4100341796875|      GOOGLE|1193.8699951171875|\n",
            "|2020-03-12|1193.8699951171875| 1113.300048828125|            1126.0|1114.9100341796875|4226700|1114.9100341796875|      GOOGLE| 1219.760009765625|\n",
            "|2020-03-13| 1219.760009765625|1117.1429443359375|            1179.0|  1219.72998046875|3700100|  1219.72998046875|      GOOGLE|1152.2669677734375|\n",
            "|2020-03-16|1152.2669677734375|  1074.43994140625|            1096.0|1084.3299560546875|4252400|1084.3299560546875|      GOOGLE|1130.8599853515625|\n",
            "|2020-03-17|1130.8599853515625| 1056.010009765625|1093.1099853515625| 1119.800048828125|3861500| 1119.800048828125|      GOOGLE|            1106.5|\n",
            "|2020-03-18|            1106.5| 1037.280029296875| 1056.510009765625| 1096.800048828125|4233400| 1096.800048828125|      GOOGLE| 1157.969970703125|\n",
            "|2020-03-19| 1157.969970703125|1060.1080322265625| 1093.050048828125|   1115.2900390625|3651100|   1115.2900390625|      GOOGLE| 1143.989990234375|\n",
            "|2020-03-20| 1143.989990234375| 1065.489990234375| 1135.719970703125|1072.3199462890625|3601800|1072.3199462890625|      GOOGLE|1071.3199462890625|\n",
            "+----------+------------------+------------------+------------------+------------------+-------+------------------+------------+------------------+\n",
            "only showing top 20 rows\n",
            "\n"
          ]
        }
      ],
      "source": [
        "testDF = stocksDF.where(\"rank > .8\").drop(\"rank\")\n",
        "testDF.show()"
      ]
    },
    {
      "cell_type": "markdown",
      "id": "c1a52823-e32a-4d96-a00a-01c5f5a9f5c3",
      "metadata": {
        "pycharm": {
          "name": "#%% md\n"
        },
        "id": "c1a52823-e32a-4d96-a00a-01c5f5a9f5c3"
      },
      "source": [
        "/home/phuhien/PycharmProjects/ocvx## Vector Assembler"
      ]
    },
    {
      "cell_type": "code",
      "execution_count": 49,
      "id": "dcb3afbd-bde2-49d0-bdb6-fef7964b6944",
      "metadata": {
        "pycharm": {
          "name": "#%%\n"
        },
        "id": "dcb3afbd-bde2-49d0-bdb6-fef7964b6944"
      },
      "outputs": [],
      "source": [
        "from pyspark.ml.feature import VectorAssembler\n",
        "\n",
        "numericCols = []\n",
        "for (field, dataType) in trainDF.dtypes:\n",
        "    if (dataType == \"double\") & (field != \"Next\"):\n",
        "        numericCols.append(field)\n",
        "\n",
        "vecAssembler = VectorAssembler(inputCols=numericCols, outputCol=\"features\")\n",
        "\n",
        "vecTrainDF = vecAssembler.transform(trainDF)"
      ]
    },
    {
      "cell_type": "markdown",
      "id": "ca0197f2-2af8-4ab3-aa05-12bb7fc0977e",
      "metadata": {
        "pycharm": {
          "name": "#%% md\n"
        },
        "id": "ca0197f2-2af8-4ab3-aa05-12bb7fc0977e"
      },
      "source": [
        "## Linear Regression"
      ]
    },
    {
      "cell_type": "code",
      "execution_count": 50,
      "id": "0db09ced-6b95-4f3d-a6a5-a16f19169240",
      "metadata": {
        "pycharm": {
          "name": "#%%\n"
        },
        "id": "0db09ced-6b95-4f3d-a6a5-a16f19169240"
      },
      "outputs": [],
      "source": [
        "from pyspark.ml.regression import LinearRegression\n",
        "\n",
        "lr = LinearRegression(featuresCol=\"features\", labelCol=\"Next\", regParam=0.01)\n",
        "lrModel = lr.fit(vecTrainDF)"
      ]
    },
    {
      "cell_type": "markdown",
      "id": "fc2e5b1c-8158-46f5-88dc-a5d99c39f980",
      "metadata": {
        "pycharm": {
          "name": "#%% md\n"
        },
        "id": "fc2e5b1c-8158-46f5-88dc-a5d99c39f980"
      },
      "source": [
        "## Pipeline"
      ]
    },
    {
      "cell_type": "code",
      "execution_count": 51,
      "id": "4f994b3c-42a7-40da-bc6c-d078d56485ab",
      "metadata": {
        "pycharm": {
          "name": "#%%\n"
        },
        "id": "4f994b3c-42a7-40da-bc6c-d078d56485ab"
      },
      "outputs": [],
      "source": [
        "from pyspark.ml import Pipeline\n",
        "\n",
        "pipeline = Pipeline(stages=[vecAssembler, lr])\n",
        "pipelineModel = pipeline.fit(trainDF)"
      ]
    },
    {
      "cell_type": "markdown",
      "id": "d6ae61d7-e1d2-425c-9e46-3749c0f58d50",
      "metadata": {
        "pycharm": {
          "name": "#%% md\n"
        },
        "id": "d6ae61d7-e1d2-425c-9e46-3749c0f58d50"
      },
      "source": [
        "## Apply to Test Set"
      ]
    },
    {
      "cell_type": "code",
      "execution_count": 52,
      "id": "0c58d7f2-6406-4d0b-b1fe-24bcb4092877",
      "metadata": {
        "pycharm": {
          "name": "#%%\n"
        },
        "colab": {
          "base_uri": "https://localhost:8080/"
        },
        "id": "0c58d7f2-6406-4d0b-b1fe-24bcb4092877",
        "outputId": "fc069342-ff7a-48fb-8806-2efb2382b3bf"
      },
      "outputs": [
        {
          "output_type": "stream",
          "name": "stdout",
          "text": [
            "+--------------------+------------------+------------------+\n",
            "|            features|              Next|        prediction|\n",
            "+--------------------+------------------+------------------+\n",
            "|[1436.96997070312...|1438.1400146484375|1433.3858691797398|\n",
            "|[1438.14001464843...| 1415.699951171875|1408.5239465590419|\n",
            "|[1415.69995117187...|1371.7039794921875|  1408.25904452282|\n",
            "|[1371.70397949218...|1341.1400146484375|1339.6268740697183|\n",
            "|[1341.14001464843...|1390.8699951171875|1356.9669645018753|\n",
            "|[1390.86999511718...|1410.1500244140625|1403.0954723388015|\n",
            "|[1410.15002441406...|1388.0899658203125|1367.4898097392918|\n",
            "|[1388.08996582031...|1358.9100341796875|1398.3019850759447|\n",
            "|[1358.91003417968...| 1306.219970703125| 1337.199784601689|\n",
            "|[1306.21997070312...| 1254.760009765625|1311.6375892531723|\n",
            "+--------------------+------------------+------------------+\n",
            "only showing top 10 rows\n",
            "\n"
          ]
        }
      ],
      "source": [
        "predictionDF = pipelineModel.transform(testDF)\n",
        "\n",
        "predictionDF.select(\"features\", \"Next\",\"prediction\").show(10)"
      ]
    },
    {
      "cell_type": "markdown",
      "id": "968ebdd9-2e8e-4d54-bee5-24f3b1554468",
      "metadata": {
        "pycharm": {
          "name": "#%% md\n"
        },
        "id": "968ebdd9-2e8e-4d54-bee5-24f3b1554468"
      },
      "source": [
        "## Baseline Model"
      ]
    },
    {
      "cell_type": "code",
      "execution_count": 55,
      "id": "76ac375b-8060-4f79-a0d1-d49b72034b99",
      "metadata": {
        "pycharm": {
          "name": "#%%\n"
        },
        "colab": {
          "base_uri": "https://localhost:8080/"
        },
        "id": "76ac375b-8060-4f79-a0d1-d49b72034b99",
        "outputId": "2e7ff624-45e6-4167-c650-a2919ccca0fd"
      },
      "outputs": [
        {
          "output_type": "stream",
          "name": "stdout",
          "text": [
            "RMSE is 26.95\n",
            "R2 is 0.98\n"
          ]
        }
      ],
      "source": [
        "from pyspark.ml.evaluation import RegressionEvaluator\n",
        "\n",
        "regEvaluator = RegressionEvaluator(labelCol=\"Next\", predictionCol=\"prediction\")\n",
        "rmse = regEvaluator.setMetricName(\"rmse\").evaluate(predictionDF)\n",
        "r2 = regEvaluator.setMetricName(\"r2\").evaluate(predictionDF)\n",
        "print(f\"RMSE is {round(rmse, 2)}\")\n",
        "print(f\"R2 is {round(r2, 2)}\")"
      ]
    },
    {
      "cell_type": "code",
      "source": [
        ""
      ],
      "metadata": {
        "id": "4x1coeWN0dZ9"
      },
      "id": "4x1coeWN0dZ9",
      "execution_count": 53,
      "outputs": []
    }
  ],
  "metadata": {
    "kernelspec": {
      "display_name": "Python 3 (ipykernel)",
      "language": "python",
      "name": "python3"
    },
    "language_info": {
      "codemirror_mode": {
        "name": "ipython",
        "version": 3
      },
      "file_extension": ".py",
      "mimetype": "text/x-python",
      "name": "python",
      "nbconvert_exporter": "python",
      "pygments_lexer": "ipython3",
      "version": "3.10.4"
    },
    "colab": {
      "name": "2LinearRegression.ipynb",
      "provenance": []
    }
  },
  "nbformat": 4,
  "nbformat_minor": 5
}