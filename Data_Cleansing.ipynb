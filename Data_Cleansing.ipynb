{
  "cells": [
    {
      "cell_type": "code",
      "execution_count": 7,
      "id": "4b5d3297-3f0a-46b6-86c8-1247977e4329",
      "metadata": {
        "pycharm": {
          "name": "#%%\n"
        },
        "colab": {
          "base_uri": "https://localhost:8080/"
        },
        "id": "4b5d3297-3f0a-46b6-86c8-1247977e4329",
        "outputId": "d8c9ba27-d882-461b-bd20-588a8d55e4c3"
      },
      "outputs": [
        {
          "output_type": "stream",
          "name": "stdout",
          "text": [
            "Looking in indexes: https://pypi.org/simple, https://us-python.pkg.dev/colab-wheels/public/simple/\n",
            "Requirement already satisfied: pyspark in /usr/local/lib/python3.7/dist-packages (3.3.0)\n",
            "Requirement already satisfied: py4j==0.10.9.5 in /usr/local/lib/python3.7/dist-packages (from pyspark) (0.10.9.5)\n"
          ]
        }
      ],
      "source": [
        "!pip install pyspark"
      ]
    },
    {
      "cell_type": "code",
      "execution_count": 8,
      "id": "db0074cd-3d83-4dff-84ac-4113fd7ecb32",
      "metadata": {
        "pycharm": {
          "name": "#%%\n"
        },
        "id": "db0074cd-3d83-4dff-84ac-4113fd7ecb32"
      },
      "outputs": [],
      "source": [
        "from pyspark.sql import SparkSession\n",
        "from pyspark.sql.types import *\n",
        "import pandas as pd\n",
        "from IPython.display import display"
      ]
    },
    {
      "cell_type": "code",
      "execution_count": 9,
      "id": "984c76ad-0f1c-4e9b-954e-4a1340f99a39",
      "metadata": {
        "pycharm": {
          "name": "#%%\n"
        },
        "id": "984c76ad-0f1c-4e9b-954e-4a1340f99a39"
      },
      "outputs": [],
      "source": [
        "spark_application_name = \"Spark_Application_Name\""
      ]
    },
    {
      "cell_type": "code",
      "execution_count": 10,
      "outputs": [],
      "source": [
        "spark = (SparkSession.builder.appName(spark_application_name).getOrCreate())"
      ],
      "metadata": {
        "pycharm": {
          "name": "#%%\n"
        },
        "id": "Gd7mBVysLFoh"
      },
      "id": "Gd7mBVysLFoh"
    },
    {
      "cell_type": "code",
      "execution_count": 11,
      "id": "bc4d4a61-f8ee-4257-9409-1ba161846a9f",
      "metadata": {
        "pycharm": {
          "name": "#%%\n"
        },
        "id": "bc4d4a61-f8ee-4257-9409-1ba161846a9f"
      },
      "outputs": [],
      "source": [
        "google_path = \"GOOGLE.csv\"\n",
        "df = spark.read.csv(google_path, header=\"true\", inferSchema=\"true\", multiLine=\"true\", escape='\"')"
      ]
    },
    {
      "cell_type": "code",
      "execution_count": 12,
      "id": "691325e2-bd41-4c6d-8ce6-3cae4c3b9499",
      "metadata": {
        "pycharm": {
          "name": "#%%\n"
        },
        "id": "691325e2-bd41-4c6d-8ce6-3cae4c3b9499"
      },
      "outputs": [],
      "source": [
        "from functools import reduce\n",
        "from pyspark.sql import DataFrame"
      ]
    },
    {
      "cell_type": "code",
      "execution_count": 13,
      "id": "bd3af04c-8b4d-4132-b357-fffc561a3aa9",
      "metadata": {
        "pycharm": {
          "name": "#%%\n"
        },
        "colab": {
          "base_uri": "https://localhost:8080/",
          "height": 34
        },
        "id": "bd3af04c-8b4d-4132-b357-fffc561a3aa9",
        "outputId": "e3c9e7f0-1d30-4c1e-8796-3db7dd28e8c3"
      },
      "outputs": [
        {
          "output_type": "display_data",
          "data": {
            "text/plain": [
              "DataFrame[Date: timestamp, High: double, Low: double, Open: double, Close: double, Volume: int, Adj Close: double, company_name: string]"
            ]
          },
          "metadata": {}
        }
      ],
      "source": [
        "display(df)"
      ]
    },
    {
      "cell_type": "code",
      "execution_count": 14,
      "id": "9e62822f-3d4b-4a93-b991-ca54bbc82503",
      "metadata": {
        "pycharm": {
          "name": "#%%\n"
        },
        "colab": {
          "base_uri": "https://localhost:8080/"
        },
        "id": "9e62822f-3d4b-4a93-b991-ca54bbc82503",
        "outputId": "76e3538b-10c1-4ee2-b6ab-7c5748dad7cb"
      },
      "outputs": [
        {
          "output_type": "stream",
          "name": "stdout",
          "text": [
            "root\n",
            " |-- Date: timestamp (nullable = true)\n",
            " |-- High: double (nullable = true)\n",
            " |-- Low: double (nullable = true)\n",
            " |-- Open: double (nullable = true)\n",
            " |-- Close: double (nullable = true)\n",
            " |-- Volume: integer (nullable = true)\n",
            " |-- Adj Close: double (nullable = true)\n",
            " |-- company_name: string (nullable = true)\n",
            "\n"
          ]
        }
      ],
      "source": [
        "df.printSchema()"
      ]
    },
    {
      "cell_type": "code",
      "execution_count": 15,
      "id": "9955e1f3-171c-410c-964a-1d777b0ea058",
      "metadata": {
        "pycharm": {
          "name": "#%%\n"
        },
        "colab": {
          "base_uri": "https://localhost:8080/"
        },
        "id": "9955e1f3-171c-410c-964a-1d777b0ea058",
        "outputId": "b1fcdf99-6e27-421c-fa5d-404ee2acd496"
      },
      "outputs": [
        {
          "output_type": "stream",
          "name": "stdout",
          "text": [
            "+----------+-----------------+-----------------+-----------------+-----------------+-------+-----------------+------------+\n",
            "|      Date|             High|              Low|             Open|            Close| Volume|        Adj Close|company_name|\n",
            "+----------+-----------------+-----------------+-----------------+-----------------+-------+-----------------+------------+\n",
            "|2017-01-03|789.6300048828125|775.7999877929688|778.8099975585938|786.1400146484375|1657300|786.1400146484375|      GOOGLE|\n",
            "|2017-01-04|791.3400268554688|783.1599731445312|788.3599853515625|786.9000244140625|1073000|786.9000244140625|      GOOGLE|\n",
            "|2017-01-05|  794.47998046875|  785.02001953125|786.0800170898438|  794.02001953125|1335200|  794.02001953125|      GOOGLE|\n",
            "|2017-01-06|807.9000244140625|792.2039794921875| 795.260009765625|806.1500244140625|1640200|806.1500244140625|      GOOGLE|\n",
            "|2017-01-09|809.9660034179688|802.8300170898438|806.4000244140625|806.6500244140625|1274600|806.6500244140625|      GOOGLE|\n",
            "|2017-01-10|809.1300048828125| 803.510009765625|807.8599853515625|804.7899780273438|1176800|804.7899780273438|      GOOGLE|\n",
            "|2017-01-11|808.1500244140625|801.3699951171875|            805.0|807.9099731445312|1065900|807.9099731445312|      GOOGLE|\n",
            "|2017-01-12|807.3900146484375|799.1699829101562|807.1400146484375|806.3599853515625|1353100|806.3599853515625|      GOOGLE|\n",
            "|2017-01-13|811.2239990234375|806.6900024414062|  807.47998046875|807.8800048828125|1099200|807.8800048828125|      GOOGLE|\n",
            "|2017-01-17|807.1400146484375|800.3699951171875|807.0800170898438|804.6099853515625|1362100|804.6099853515625|      GOOGLE|\n",
            "|2017-01-18|806.2050170898438| 800.989990234375|805.8099975585938|806.0700073242188|1294400|806.0700073242188|      GOOGLE|\n",
            "|2017-01-19|  809.47998046875|801.7999877929688|805.1199951171875|802.1749877929688| 919300|802.1749877929688|      GOOGLE|\n",
            "|2017-01-20|806.9099731445312|801.6900024414062|806.9099731445312|  805.02001953125|1670000|  805.02001953125|      GOOGLE|\n",
            "|2017-01-23|820.8699951171875| 803.739990234375|           807.25|819.3099975585938|1963600|819.3099975585938|      GOOGLE|\n",
            "|2017-01-24|825.9000244140625|817.8209838867188|822.2999877929688|823.8699951171875|1474000|823.8699951171875|      GOOGLE|\n",
            "|2017-01-25|  835.77001953125|825.0599975585938|829.6199951171875|835.6699829101562|1494500|835.6699829101562|      GOOGLE|\n",
            "|2017-01-26|            838.0| 827.010009765625|837.8099975585938|832.1500244140625|2973900|832.1500244140625|      GOOGLE|\n",
            "|2017-01-27|841.9500122070312|820.4400024414062|834.7100219726562|823.3099975585938|2965800|823.3099975585938|      GOOGLE|\n",
            "|2017-01-30|815.8400268554688|799.7999877929688|814.6599731445312|802.3200073242188|3246600|802.3200073242188|      GOOGLE|\n",
            "|2017-01-31|           801.25|  790.52001953125|796.8599853515625|796.7899780273438|2160600|796.7899780273438|      GOOGLE|\n",
            "+----------+-----------------+-----------------+-----------------+-----------------+-------+-----------------+------------+\n",
            "only showing top 20 rows\n",
            "\n"
          ]
        }
      ],
      "source": [
        "from pyspark.sql.functions import *\n",
        "\n",
        "df = df.withColumn(\"Date\", to_date(col(\"Date\"), \"yyyy-MM-dd\"))\n",
        "df.show()"
      ]
    },
    {
      "cell_type": "code",
      "execution_count": 16,
      "id": "7ceb65e8-07db-479a-9bf3-26bc580875fe",
      "metadata": {
        "pycharm": {
          "name": "#%%\n"
        },
        "colab": {
          "base_uri": "https://localhost:8080/"
        },
        "id": "7ceb65e8-07db-479a-9bf3-26bc580875fe",
        "outputId": "d2ec5828-6c77-464f-838b-8e0e261d9ca6"
      },
      "outputs": [
        {
          "output_type": "stream",
          "name": "stdout",
          "text": [
            "root\n",
            " |-- Date: date (nullable = true)\n",
            " |-- High: double (nullable = true)\n",
            " |-- Low: double (nullable = true)\n",
            " |-- Open: double (nullable = true)\n",
            " |-- Close: double (nullable = true)\n",
            " |-- Volume: integer (nullable = true)\n",
            " |-- Adj Close: double (nullable = true)\n",
            " |-- company_name: string (nullable = true)\n",
            "\n"
          ]
        }
      ],
      "source": [
        "df.printSchema()"
      ]
    },
    {
      "cell_type": "code",
      "execution_count": 17,
      "id": "03ef88fc-f627-484b-868c-73fd680861ee",
      "metadata": {
        "pycharm": {
          "name": "#%%\n"
        },
        "colab": {
          "base_uri": "https://localhost:8080/"
        },
        "id": "03ef88fc-f627-484b-868c-73fd680861ee",
        "outputId": "a4ae21d0-4c7a-48cb-cb99-a143ef8884b5"
      },
      "outputs": [
        {
          "output_type": "stream",
          "name": "stdout",
          "text": [
            "+----------+-----------------+-----------------+-----------------+-----------------+-------+-----------------+------------+\n",
            "|      Date|             High|              Low|             Open|            Close| Volume|        Adj Close|company_name|\n",
            "+----------+-----------------+-----------------+-----------------+-----------------+-------+-----------------+------------+\n",
            "|2017-01-03|789.6300048828125|775.7999877929688|778.8099975585938|786.1400146484375|1657300|786.1400146484375|      GOOGLE|\n",
            "|2017-01-04|791.3400268554688|783.1599731445312|788.3599853515625|786.9000244140625|1073000|786.9000244140625|      GOOGLE|\n",
            "|2017-01-05|  794.47998046875|  785.02001953125|786.0800170898438|  794.02001953125|1335200|  794.02001953125|      GOOGLE|\n",
            "|2017-01-06|807.9000244140625|792.2039794921875| 795.260009765625|806.1500244140625|1640200|806.1500244140625|      GOOGLE|\n",
            "|2017-01-09|809.9660034179688|802.8300170898438|806.4000244140625|806.6500244140625|1274600|806.6500244140625|      GOOGLE|\n",
            "|2017-01-10|809.1300048828125| 803.510009765625|807.8599853515625|804.7899780273438|1176800|804.7899780273438|      GOOGLE|\n",
            "|2017-01-11|808.1500244140625|801.3699951171875|            805.0|807.9099731445312|1065900|807.9099731445312|      GOOGLE|\n",
            "|2017-01-12|807.3900146484375|799.1699829101562|807.1400146484375|806.3599853515625|1353100|806.3599853515625|      GOOGLE|\n",
            "|2017-01-13|811.2239990234375|806.6900024414062|  807.47998046875|807.8800048828125|1099200|807.8800048828125|      GOOGLE|\n",
            "|2017-01-17|807.1400146484375|800.3699951171875|807.0800170898438|804.6099853515625|1362100|804.6099853515625|      GOOGLE|\n",
            "|2017-01-18|806.2050170898438| 800.989990234375|805.8099975585938|806.0700073242188|1294400|806.0700073242188|      GOOGLE|\n",
            "|2017-01-19|  809.47998046875|801.7999877929688|805.1199951171875|802.1749877929688| 919300|802.1749877929688|      GOOGLE|\n",
            "|2017-01-20|806.9099731445312|801.6900024414062|806.9099731445312|  805.02001953125|1670000|  805.02001953125|      GOOGLE|\n",
            "|2017-01-23|820.8699951171875| 803.739990234375|           807.25|819.3099975585938|1963600|819.3099975585938|      GOOGLE|\n",
            "|2017-01-24|825.9000244140625|817.8209838867188|822.2999877929688|823.8699951171875|1474000|823.8699951171875|      GOOGLE|\n",
            "|2017-01-25|  835.77001953125|825.0599975585938|829.6199951171875|835.6699829101562|1494500|835.6699829101562|      GOOGLE|\n",
            "|2017-01-26|            838.0| 827.010009765625|837.8099975585938|832.1500244140625|2973900|832.1500244140625|      GOOGLE|\n",
            "|2017-01-27|841.9500122070312|820.4400024414062|834.7100219726562|823.3099975585938|2965800|823.3099975585938|      GOOGLE|\n",
            "|2017-01-30|815.8400268554688|799.7999877929688|814.6599731445312|802.3200073242188|3246600|802.3200073242188|      GOOGLE|\n",
            "|2017-01-31|           801.25|  790.52001953125|796.8599853515625|796.7899780273438|2160600|796.7899780273438|      GOOGLE|\n",
            "+----------+-----------------+-----------------+-----------------+-----------------+-------+-----------------+------------+\n",
            "only showing top 20 rows\n",
            "\n"
          ]
        }
      ],
      "source": [
        "cleanDF = df.na.fill(value=0, subset=[\"Volume\"])\n",
        "cleanDF.show()\n",
        "\n",
        "# We can see that there are 987 Volume columns in apple, microsoft and tesla DFs have null values.\n",
        "# We do not want to remove every rows that contain a null value because if we do so 987 rows in 3 DFs will be removed,\n",
        "# which also means a lot of data from other columns of that row will be lost, and these data is important in the analytics of other information of that day"
      ]
    },
    {
      "cell_type": "code",
      "execution_count": 18,
      "id": "9f5c6594-244c-48e1-a9d9-1294ba2170ab",
      "metadata": {
        "pycharm": {
          "name": "#%%\n"
        },
        "id": "9f5c6594-244c-48e1-a9d9-1294ba2170ab"
      },
      "outputs": [],
      "source": [
        "outputPath = \"stocks-clean.parquet\"\n",
        "\n",
        "noNullsDF = cleanDF.withColumnRenamed(\"Adj Close\", \"AdjClose\")\n",
        "noNullsDF.write.mode(\"overwrite\").parquet(outputPath)"
      ]
    },
    {
      "cell_type": "markdown",
      "id": "4b13c242-8df9-42fc-ac5e-33546d3edd0f",
      "metadata": {
        "pycharm": {
          "name": "#%% md\n"
        },
        "id": "4b13c242-8df9-42fc-ac5e-33546d3edd0f"
      },
      "source": [
        "## Add Prediction Column"
      ]
    },
    {
      "cell_type": "code",
      "execution_count": 19,
      "id": "992b9b24-6c52-4575-9d11-1c00cffef14b",
      "metadata": {
        "pycharm": {
          "name": "#%%\n"
        },
        "id": "992b9b24-6c52-4575-9d11-1c00cffef14b"
      },
      "outputs": [],
      "source": [
        "filePath = \"stocks-clean.parquet\"\n",
        "stocksDF = spark.read.parquet(filePath)"
      ]
    },
    {
      "cell_type": "code",
      "execution_count": 20,
      "id": "15caecb8-6adb-4227-a429-10703bdc5e66",
      "metadata": {
        "pycharm": {
          "name": "#%%\n"
        },
        "id": "15caecb8-6adb-4227-a429-10703bdc5e66"
      },
      "outputs": [],
      "source": [
        "from pyspark.sql.functions import lead, col\n",
        "from pyspark.sql import Window\n",
        "\n",
        "w = Window.orderBy(\"Date\")\n",
        "\n",
        "stocksDF = stocksDF.withColumn(\"Next\", lead(\"Volume\",1,0).over(w))"
      ]
    },
    {
      "cell_type": "code",
      "execution_count": 21,
      "id": "df2ace08-93b0-47e5-b731-abf7c8dd304b",
      "metadata": {
        "pycharm": {
          "name": "#%%\n"
        },
        "colab": {
          "base_uri": "https://localhost:8080/",
          "height": 34
        },
        "id": "df2ace08-93b0-47e5-b731-abf7c8dd304b",
        "outputId": "7b9d859f-9e00-4424-9549-47629123561b"
      },
      "outputs": [
        {
          "output_type": "display_data",
          "data": {
            "text/plain": [
              "DataFrame[Date: date, High: double, Low: double, Open: double, Close: double, Volume: int, AdjClose: double, company_name: string, Next: int]"
            ]
          },
          "metadata": {}
        }
      ],
      "source": [
        "stocksDF = stocksDF.filter(col(\"Next\")!=0.0)\n",
        "display(stocksDF)"
      ]
    },
    {
      "cell_type": "code",
      "execution_count": 22,
      "id": "12e4126f-a87b-4ae9-aecd-86de44d14597",
      "metadata": {
        "pycharm": {
          "name": "#%%\n"
        },
        "id": "12e4126f-a87b-4ae9-aecd-86de44d14597"
      },
      "outputs": [],
      "source": [
        "outputPath = \"stocks-final.parquet\"\n",
        "stocksDF.write.mode(\"overwrite\").parquet(outputPath)"
      ]
    }
  ],
  "metadata": {
    "kernelspec": {
      "display_name": "Python 3 (ipykernel)",
      "language": "python",
      "name": "python3"
    },
    "language_info": {
      "codemirror_mode": {
        "name": "ipython",
        "version": 3
      },
      "file_extension": ".py",
      "mimetype": "text/x-python",
      "name": "python",
      "nbconvert_exporter": "python",
      "pygments_lexer": "ipython3",
      "version": "3.10.4"
    },
    "colab": {
      "name": "1Data_Cleansing.ipynb",
      "provenance": []
    }
  },
  "nbformat": 4,
  "nbformat_minor": 5
}