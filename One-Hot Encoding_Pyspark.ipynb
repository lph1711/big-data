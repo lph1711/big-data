{
 "cells": [
  {
   "cell_type": "code",
   "execution_count": 1,
   "id": "2010722d-8741-4ae7-b05c-7fb63379c4f7",
   "metadata": {
    "pycharm": {
     "name": "#%%\n"
    }
   },
   "outputs": [
    {
     "name": "stdout",
     "output_type": "stream",
     "text": [
      "Defaulting to user installation because normal site-packages is not writeable\n",
      "Requirement already satisfied: pyspark in /home/yassinb/.local/lib/python3.10/site-packages (3.2.1)\n",
      "Requirement already satisfied: py4j==0.10.9.3 in /home/yassinb/.local/lib/python3.10/site-packages (from pyspark) (0.10.9.3)\n"
     ]
    }
   ],
   "source": [
    "!pip install pyspark"
   ]
  },
  {
   "cell_type": "code",
   "execution_count": 2,
   "id": "dbe9d7ad-88da-4278-a9e4-2e4f8aa89d38",
   "metadata": {
    "pycharm": {
     "name": "#%%\n"
    }
   },
   "outputs": [],
   "source": [
    "from pyspark.sql import SparkSession\n",
    "from pyspark.sql.types import *\n",
    "import pandas as pd\n",
    "from IPython.display import display"
   ]
  },
  {
   "cell_type": "code",
   "execution_count": 3,
   "id": "e18c5cf2-f56d-4b6a-85e5-b82e5646f22e",
   "metadata": {
    "pycharm": {
     "name": "#%%\n"
    }
   },
   "outputs": [],
   "source": [
    "spark_application_name = \"Spark_Application_Name\""
   ]
  },
  {
   "cell_type": "code",
   "execution_count": 4,
   "id": "e524bc80-f676-4678-94da-0ff596b9abe2",
   "metadata": {
    "pycharm": {
     "name": "#%%\n"
    }
   },
   "outputs": [
    {
     "name": "stderr",
     "output_type": "stream",
     "text": [
      "Using Spark's default log4j profile: org/apache/spark/log4j-defaults.properties\n",
      "Setting default log level to \"WARN\".\n",
      "To adjust logging level use sc.setLogLevel(newLevel). For SparkR, use setLogLevel(newLevel).\n",
      "22/06/13 11:32:07 WARN NativeCodeLoader: Unable to load native-hadoop library for your platform... using builtin-java classes where applicable\n",
      "22/06/13 11:32:08 WARN Utils: Service 'SparkUI' could not bind on port 4040. Attempting port 4041.\n"
     ]
    }
   ],
   "source": [
    "spark = (SparkSession.builder.appName(spark_application_name).getOrCreate())"
   ]
  },
  {
   "cell_type": "code",
   "execution_count": 5,
   "id": "d8321940-956d-46e9-a502-46eacf843663",
   "metadata": {
    "pycharm": {
     "name": "#%%\n"
    }
   },
   "outputs": [
    {
     "name": "stderr",
     "output_type": "stream",
     "text": [
      "                                                                                \r"
     ]
    }
   ],
   "source": [
    "filePath = \"sf-stocks-clean.parquet\"\n",
    "stocksDF = spark.read.parquet(filePath)"
   ]
  },
  {
   "cell_type": "markdown",
   "id": "8e7aca48-bdf4-4db6-941f-021f4887e91c",
   "metadata": {
    "pycharm": {
     "name": "#%% md\n"
    }
   },
   "source": [
    "## Train/Test Split"
   ]
  },
  {
   "cell_type": "code",
   "execution_count": 6,
   "id": "99c6a081-4ebd-4135-8845-1a223b50857c",
   "metadata": {
    "pycharm": {
     "name": "#%%\n"
    }
   },
   "outputs": [],
   "source": [
    "trainDF, testDF = stocksDF.randomSplit([.8, .2], seed=42)"
   ]
  },
  {
   "cell_type": "markdown",
   "id": "bd229e83-13b1-4932-83b5-fbbdb39ac9e9",
   "metadata": {
    "pycharm": {
     "name": "#%% md\n"
    }
   },
   "source": [
    "## StringIndexer, OneHotEncoder, and VectorAssembler"
   ]
  },
  {
   "cell_type": "code",
   "execution_count": 7,
   "id": "068da748-bb52-4ceb-8206-dda4b29bfbdc",
   "metadata": {
    "pycharm": {
     "name": "#%%\n"
    }
   },
   "outputs": [],
   "source": [
    "from pyspark.ml.feature import OneHotEncoder, StringIndexer\n",
    "\n",
    "categoricalCols = []\n",
    "for (field, dataType) in trainDF.dtypes:\n",
    "    if dataType == \"string\":\n",
    "        categoricalCols.append(field)\n",
    "\n",
    "indexOutputCols = [x + \"Index\" for x in categoricalCols]\n",
    "oheOutputCols = [x + \"OHE\" for x in categoricalCols]\n",
    "\n",
    "stringIndexer = StringIndexer(inputCols=categoricalCols, \n",
    "                              outputCols=indexOutputCols, \n",
    "                              handleInvalid=\"skip\")\n",
    "oheEncoder = OneHotEncoder(inputCols=indexOutputCols, \n",
    "                           outputCols=oheOutputCols)\n",
    "\n",
    "# StringIndexer encodes a string column of labels to a column of label indices.\n",
    "# If the input column is numeric, we cast it to string and index the string values.\n",
    "\n",
    "# One Hot Encoding is a technique for converting categorical attributes into a binary vector.\n",
    "# A one-hot encoder that maps a column of category indices to a column of binary vectors,\n",
    "# with at most a single one-value per row that indicates the input category index."
   ]
  },
  {
   "cell_type": "code",
   "execution_count": 8,
   "id": "af0fcea1-860d-48fd-be2e-9af5e84b4e4d",
   "metadata": {
    "pycharm": {
     "name": "#%%\n"
    }
   },
   "outputs": [],
   "source": [
    "from pyspark.ml.feature import VectorAssembler\n",
    "\n",
    "numericCols = []\n",
    "\n",
    "for (field, dataType) in trainDF.dtypes:\n",
    "    if dataType == \"double\" and field != \"Low\":\n",
    "        numericCols.append(field)\n",
    "\n",
    "assemblerInputs = oheOutputCols + numericCols\n",
    "vecAssembler = VectorAssembler(inputCols=assemblerInputs, \n",
    "                               outputCol=\"features\")\n",
    "\n",
    "# VectorAssembler is a transformer that combines a given list of columns into a single vector column."
   ]
  },
  {
   "cell_type": "markdown",
   "id": "ec848c23-81f9-41a3-8256-12a28adc645f",
   "metadata": {
    "pycharm": {
     "name": "#%% md\n"
    }
   },
   "source": [
    "## Linear Regression"
   ]
  },
  {
   "cell_type": "code",
   "execution_count": 9,
   "id": "7594d9a0-dae0-4a2f-b666-38c3f2def91d",
   "metadata": {
    "pycharm": {
     "name": "#%%\n"
    }
   },
   "outputs": [],
   "source": [
    "from pyspark.ml.regression import LinearRegression\n",
    "\n",
    "lr = LinearRegression(labelCol=\"Low\", featuresCol=\"features\")"
   ]
  },
  {
   "cell_type": "markdown",
   "id": "8f67ae71-9803-4df9-ae0d-9a3e5c8ed3d5",
   "metadata": {
    "pycharm": {
     "name": "#%% md\n"
    }
   },
   "source": [
    "## Pipeline"
   ]
  },
  {
   "cell_type": "code",
   "execution_count": 10,
   "id": "a8157f8d-b1d1-4f7a-ab24-e7d57e25ad46",
   "metadata": {
    "pycharm": {
     "name": "#%%\n"
    }
   },
   "outputs": [
    {
     "name": "stderr",
     "output_type": "stream",
     "text": [
      "22/06/13 11:32:17 WARN Instrumentation: [1c247cd9] regParam is zero, which might cause numerical instability and overfitting.\n"
     ]
    },
    {
     "name": "stdout",
     "output_type": "stream",
     "text": [
      "+--------------------+------------------+------------------+\n",
      "|            features|              High|        prediction|\n",
      "+--------------------+------------------+------------------+\n",
      "|(11,[0,6,7,8,9,10...| 45.49599838256836|46.304193414515446|\n",
      "|(11,[0,6,7,8,9,10...| 45.99599838256836| 46.55924680098951|\n",
      "|(11,[0,6,7,8,9,10...| 47.56999969482422| 47.74904183179527|\n",
      "|(11,[0,6,7,8,9,10...|50.178001403808594|   50.284607650766|\n",
      "|(11,[0,6,7,8,9,10...|51.178001403808594|50.876756405420636|\n",
      "+--------------------+------------------+------------------+\n",
      "only showing top 5 rows\n",
      "\n"
     ]
    }
   ],
   "source": [
    "# Option 1: StringIndexer + OHE + VectorAssembler\n",
    "from pyspark.ml import Pipeline\n",
    "\n",
    "stages = [stringIndexer, oheEncoder, vecAssembler, lr]\n",
    "pipeline = Pipeline(stages=stages)\n",
    "\n",
    "pipelineModel = pipeline.fit(trainDF)\n",
    "predDF = pipelineModel.transform(testDF)\n",
    "predDF.select(\"features\", \"Low\", \"prediction\").show(10)"
   ]
  },
  {
   "cell_type": "markdown",
   "id": "c4029b21-8e3e-443f-b918-6b078b67518a",
   "metadata": {
    "pycharm": {
     "name": "#%% md\n"
    }
   },
   "source": [
    "## Evaluate RMSE: Model"
   ]
  },
  {
   "cell_type": "code",
   "execution_count": 11,
   "id": "2db58db8-dab6-4b71-99d2-d9cb008d2d70",
   "metadata": {
    "pycharm": {
     "name": "#%%\n"
    }
   },
   "outputs": [
    {
     "name": "stdout",
     "output_type": "stream",
     "text": [
      "RMSE is 6.35\n"
     ]
    }
   ],
   "source": [
    "from pyspark.ml.evaluation import RegressionEvaluator\n",
    "\n",
    "regressionEvaluator = RegressionEvaluator(predictionCol=\"prediction\", labelCol=\"Low\", metricName=\"rmse\")\n",
    "\n",
    "rmse = round(regressionEvaluator.evaluate(predDF), 2)\n",
    "print(f\"RMSE is {rmse}\")"
   ]
  },
  {
   "cell_type": "code",
   "execution_count": 12,
   "id": "e0e78828-d5ef-4265-a9bc-2b8c76967b58",
   "metadata": {
    "pycharm": {
     "name": "#%%\n"
    }
   },
   "outputs": [
    {
     "name": "stdout",
     "output_type": "stream",
     "text": [
      "R2 is 1.0\n"
     ]
    }
   ],
   "source": [
    "r2 = round(regressionEvaluator.setMetricName(\"r2\").evaluate(predDF), 2)\n",
    "print(f\"R2 is {r2}\")\n",
    "\n",
    "# In finance, an R-Squared above 0.7 would generally be seen as showing a high level of correlation, whereas a measure below 0.4 would show a low correlation. "
   ]
  },
  {
   "cell_type": "code",
   "execution_count": 15,
   "id": "c7005ebd-7588-41f5-8e9b-7ce1f21141e3",
   "metadata": {
    "pycharm": {
     "name": "#%%\n"
    }
   },
   "outputs": [],
   "source": [
    "# IT IS OVERFITTING !"
   ]
  },
  {
   "cell_type": "markdown",
   "id": "79591c9f-28f8-4a35-91e9-bb8bd8a97423",
   "metadata": {
    "pycharm": {
     "name": "#%% md\n"
    }
   },
   "source": [
    "## Loading Models"
   ]
  },
  {
   "cell_type": "code",
   "execution_count": 13,
   "id": "7b234585-4361-40c1-af35-798a83677afe",
   "metadata": {
    "pycharm": {
     "name": "#%%\n"
    }
   },
   "outputs": [],
   "source": [
    "pipelinePath = \"lr-pipeline-model\"\n",
    "pipelineModel.write().overwrite().save(pipelinePath)"
   ]
  },
  {
   "cell_type": "code",
   "execution_count": 14,
   "id": "79ec17c7-746a-41c4-b3f4-8d61bd97062c",
   "metadata": {
    "pycharm": {
     "name": "#%%\n"
    }
   },
   "outputs": [
    {
     "name": "stderr",
     "output_type": "stream",
     "text": [
      "                                                                                \r"
     ]
    }
   ],
   "source": [
    "from pyspark.ml import PipelineModel\n",
    "\n",
    "savedPipelineModel = PipelineModel.load(pipelinePath)"
   ]
  }
 ],
 "metadata": {
  "kernelspec": {
   "display_name": "Python 3 (ipykernel)",
   "language": "python",
   "name": "python3"
  },
  "language_info": {
   "codemirror_mode": {
    "name": "ipython",
    "version": 3
   },
   "file_extension": ".py",
   "mimetype": "text/x-python",
   "name": "python",
   "nbconvert_exporter": "python",
   "pygments_lexer": "ipython3",
   "version": "3.10.4"
  }
 },
 "nbformat": 4,
 "nbformat_minor": 5
}