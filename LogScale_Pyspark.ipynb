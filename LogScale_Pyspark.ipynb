{
 "cells": [
  {
   "cell_type": "markdown",
   "id": "e69a31fe-1351-402c-81c1-d11425123634",
   "metadata": {
    "pycharm": {
     "name": "#%% md\n"
    }
   },
   "source": [
    "# Log Scale"
   ]
  },
  {
   "cell_type": "code",
   "execution_count": 1,
   "id": "8ca4e472-f7b1-4a64-80a3-83bd0831c25a",
   "metadata": {
    "pycharm": {
     "name": "#%%\n"
    }
   },
   "outputs": [
    {
     "name": "stdout",
     "output_type": "stream",
     "text": [
      "Defaulting to user installation because normal site-packages is not writeable\n",
      "Requirement already satisfied: pyspark in /home/yassinb/.local/lib/python3.10/site-packages (3.2.1)\n",
      "Requirement already satisfied: py4j==0.10.9.3 in /home/yassinb/.local/lib/python3.10/site-packages (from pyspark) (0.10.9.3)\n"
     ]
    }
   ],
   "source": [
    "!pip install pyspark"
   ]
  },
  {
   "cell_type": "code",
   "execution_count": 2,
   "id": "5ee1a105-f986-454c-b614-1e5c1f7024cb",
   "metadata": {
    "pycharm": {
     "name": "#%%\n"
    }
   },
   "outputs": [],
   "source": [
    "from pyspark.sql import SparkSession\n",
    "from pyspark.sql.types import *\n",
    "import pandas as pd\n",
    "from IPython.display import display"
   ]
  },
  {
   "cell_type": "code",
   "execution_count": 3,
   "id": "8790f225-d2fc-4b00-95f5-2d6dc75ee8ca",
   "metadata": {
    "pycharm": {
     "name": "#%%\n"
    }
   },
   "outputs": [],
   "source": [
    "spark_application_name = \"Spark_Application_Name\""
   ]
  },
  {
   "cell_type": "code",
   "execution_count": 4,
   "id": "ceb4c9bb-2055-43e5-a7a0-f6c088b33216",
   "metadata": {
    "pycharm": {
     "name": "#%%\n"
    }
   },
   "outputs": [
    {
     "name": "stderr",
     "output_type": "stream",
     "text": [
      "Using Spark's default log4j profile: org/apache/spark/log4j-defaults.properties\n",
      "Setting default log level to \"WARN\".\n",
      "To adjust logging level use sc.setLogLevel(newLevel). For SparkR, use setLogLevel(newLevel).\n",
      "22/06/13 10:26:21 WARN NativeCodeLoader: Unable to load native-hadoop library for your platform... using builtin-java classes where applicable\n",
      "22/06/13 10:26:22 WARN Utils: Service 'SparkUI' could not bind on port 4040. Attempting port 4041.\n",
      "22/06/13 10:26:22 WARN Utils: Service 'SparkUI' could not bind on port 4041. Attempting port 4042.\n"
     ]
    }
   ],
   "source": [
    "spark = (SparkSession.builder.appName(spark_application_name).getOrCreate())"
   ]
  },
  {
   "cell_type": "code",
   "execution_count": 5,
   "id": "917f4372-c876-40eb-bbc7-a1e02c93e32c",
   "metadata": {
    "pycharm": {
     "name": "#%%\n"
    }
   },
   "outputs": [
    {
     "name": "stderr",
     "output_type": "stream",
     "text": [
      "                                                                                \r"
     ]
    }
   ],
   "source": [
    "filePath = \"sf-stocks-clean.parquet\"\n",
    "stocksDF = spark.read.parquet(filePath)\n",
    "(trainDF, testDF) = stocksDF.randomSplit([.8, .2], seed=42)"
   ]
  },
  {
   "cell_type": "code",
   "execution_count": 6,
   "id": "c280d0e3-5edf-4af3-a13f-5f0ead90ef95",
   "metadata": {
    "pycharm": {
     "name": "#%%\n"
    }
   },
   "outputs": [
    {
     "name": "stderr",
     "output_type": "stream",
     "text": [
      "22/06/13 10:29:21 WARN Instrumentation: [8c62c44a] regParam is zero, which might cause numerical instability and overfitting.\n"
     ]
    }
   ],
   "source": [
    "from pyspark.sql.functions import col, log\n",
    "from pyspark.ml import Pipeline\n",
    "from pyspark.ml.feature import RFormula\n",
    "from pyspark.ml.regression import LinearRegression\n",
    "\n",
    "logTrainDF = trainDF.withColumn(\"log_low\", log(col(\"Low\")))\n",
    "logTestDF = testDF.withColumn(\"log_low\", log(col(\"Low\")))\n",
    "\n",
    "rFormula = RFormula(formula=\"log_low ~ . - Low\", featuresCol=\"features\", labelCol=\"log_low\", handleInvalid=\"skip\")\n",
    "\n",
    "lr = LinearRegression(labelCol=\"log_low\", predictionCol=\"log_pred\")\n",
    "pipeline = Pipeline(stages = [rFormula, lr])\n",
    "pipelineModel = pipeline.fit(logTrainDF)\n",
    "predDF = pipelineModel.transform(logTestDF)"
   ]
  },
  {
   "cell_type": "markdown",
   "id": "b527a096-14f9-4bb9-b203-61ff8bc813cc",
   "metadata": {
    "pycharm": {
     "name": "#%% md\n"
    }
   },
   "source": [
    "## Exponentiate"
   ]
  },
  {
   "cell_type": "code",
   "execution_count": 7,
   "id": "5620c44c-6877-44c4-961b-3f990a135e47",
   "metadata": {
    "pycharm": {
     "name": "#%%\n"
    }
   },
   "outputs": [
    {
     "name": "stdout",
     "output_type": "stream",
     "text": [
      "RMSE is 263.4108902331179\n",
      "R2 is 0.8672557055279959\n"
     ]
    }
   ],
   "source": [
    "from pyspark.ml.evaluation import RegressionEvaluator\n",
    "from pyspark.sql.functions import col, exp\n",
    "\n",
    "expDF = predDF.withColumn(\"prediction\", exp(col(\"log_pred\")))\n",
    "\n",
    "regressionEvaluator = RegressionEvaluator(labelCol=\"Low\", predictionCol=\"prediction\")\n",
    "rmse = regressionEvaluator.setMetricName(\"rmse\").evaluate(expDF)\n",
    "r2 = regressionEvaluator.setMetricName(\"r2\").evaluate(expDF)\n",
    "print(f\"RMSE is {rmse}\")\n",
    "print(f\"R2 is {r2}\")"
   ]
  }
 ],
 "metadata": {
  "kernelspec": {
   "display_name": "Python 3 (ipykernel)",
   "language": "python",
   "name": "python3"
  },
  "language_info": {
   "codemirror_mode": {
    "name": "ipython",
    "version": 3
   },
   "file_extension": ".py",
   "mimetype": "text/x-python",
   "name": "python",
   "nbconvert_exporter": "python",
   "pygments_lexer": "ipython3",
   "version": "3.10.4"
  }
 },
 "nbformat": 4,
 "nbformat_minor": 5
}